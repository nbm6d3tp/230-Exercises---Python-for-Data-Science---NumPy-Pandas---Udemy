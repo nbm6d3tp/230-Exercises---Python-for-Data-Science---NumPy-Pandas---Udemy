{
 "cells": [
  {
   "cell_type": "code",
   "execution_count": 4,
   "metadata": {},
   "outputs": [],
   "source": [
    "import pandas as pd\n",
    "import numpy as np"
   ]
  },
  {
   "cell_type": "code",
   "execution_count": 10,
   "metadata": {},
   "outputs": [
    {
     "name": "stdout",
     "output_type": "stream",
     "text": [
      "DatetimeIndex(['2020-01-01', '2020-01-02', '2020-01-03', '2020-01-04',\n",
      "               '2020-01-05', '2020-01-06', '2020-01-07', '2020-01-08',\n",
      "               '2020-01-09', '2020-01-10', '2020-01-11', '2020-01-12',\n",
      "               '2020-01-13', '2020-01-14', '2020-01-15', '2020-01-16',\n",
      "               '2020-01-17', '2020-01-18', '2020-01-19', '2020-01-20',\n",
      "               '2020-01-21', '2020-01-22', '2020-01-23', '2020-01-24',\n",
      "               '2020-01-25', '2020-01-26', '2020-01-27', '2020-01-28',\n",
      "               '2020-01-29', '2020-01-30', '2020-01-31'],\n",
      "              dtype='datetime64[ns]', freq='D')\n"
     ]
    }
   ],
   "source": [
    "# date_range = pd.DatetimeIndex(\n",
    "#     np.arange(\"2020-01-01\", \"2020-02-01\", dtype=\"datetime64\"), freq=\"D\"\n",
    "# )\n",
    "# date_range = pd.date_range(start=\"2020-01-01\", periods=31)\n",
    "date_range = pd.date_range(start=\"2020-01-01\", end=\"2020-01-31\")\n",
    "print(date_range)"
   ]
  },
  {
   "cell_type": "code",
   "execution_count": 15,
   "metadata": {},
   "outputs": [
    {
     "name": "stdout",
     "output_type": "stream",
     "text": [
      "DatetimeIndex(['2020-01-06', '2020-01-13', '2020-01-20', '2020-01-27',\n",
      "               '2020-02-03', '2020-02-10', '2020-02-17', '2020-02-24',\n",
      "               '2020-03-02', '2020-03-09', '2020-03-16', '2020-03-23',\n",
      "               '2020-03-30', '2020-04-06', '2020-04-13', '2020-04-20',\n",
      "               '2020-04-27', '2020-05-04', '2020-05-11', '2020-05-18',\n",
      "               '2020-05-25', '2020-06-01', '2020-06-08', '2020-06-15',\n",
      "               '2020-06-22', '2020-06-29', '2020-07-06', '2020-07-13',\n",
      "               '2020-07-20', '2020-07-27', '2020-08-03', '2020-08-10',\n",
      "               '2020-08-17', '2020-08-24', '2020-08-31', '2020-09-07',\n",
      "               '2020-09-14', '2020-09-21', '2020-09-28', '2020-10-05',\n",
      "               '2020-10-12', '2020-10-19', '2020-10-26', '2020-11-02',\n",
      "               '2020-11-09', '2020-11-16', '2020-11-23', '2020-11-30',\n",
      "               '2020-12-07', '2020-12-14', '2020-12-21', '2020-12-28'],\n",
      "              dtype='datetime64[ns]', freq='W-MON')\n"
     ]
    }
   ],
   "source": [
    "# date_range = pd.DatetimeIndex(\n",
    "#     np.arange(\"2020-01-06\", \"2021-01-01\", 7, dtype=\"datetime64\"), freq=\"W-MON\"\n",
    "# )\n",
    "# date_range = pd.date_range(start=\"2020-01-01\", periods=52, freq=\"W-MON\")\n",
    "date_range = pd.date_range(start=\"2020-01-01\", end=\"2020-12-31\", freq=\"W-MON\")\n",
    "print(date_range)"
   ]
  },
  {
   "cell_type": "code",
   "execution_count": 17,
   "metadata": {},
   "outputs": [
    {
     "name": "stdout",
     "output_type": "stream",
     "text": [
      "DatetimeIndex(['2021-01-01 00:00:00', '2021-01-01 01:00:00',\n",
      "               '2021-01-01 02:00:00', '2021-01-01 03:00:00',\n",
      "               '2021-01-01 04:00:00', '2021-01-01 05:00:00',\n",
      "               '2021-01-01 06:00:00', '2021-01-01 07:00:00',\n",
      "               '2021-01-01 08:00:00', '2021-01-01 09:00:00',\n",
      "               '2021-01-01 10:00:00', '2021-01-01 11:00:00',\n",
      "               '2021-01-01 12:00:00', '2021-01-01 13:00:00',\n",
      "               '2021-01-01 14:00:00', '2021-01-01 15:00:00',\n",
      "               '2021-01-01 16:00:00', '2021-01-01 17:00:00',\n",
      "               '2021-01-01 18:00:00', '2021-01-01 19:00:00',\n",
      "               '2021-01-01 20:00:00', '2021-01-01 21:00:00',\n",
      "               '2021-01-01 22:00:00', '2021-01-01 23:00:00'],\n",
      "              dtype='datetime64[ns]', freq='h')\n"
     ]
    }
   ],
   "source": [
    "date_range = pd.date_range(\n",
    "    start=\"2021-01-01 00:00:00\", end=\"2021-01-01 23:00:00\", freq=\"h\"\n",
    ")\n",
    "# date_range = pd.date_range(start='2021-01-01', periods=24, freq='H')\n",
    "print(date_range)"
   ]
  },
  {
   "cell_type": "code",
   "execution_count": 19,
   "metadata": {},
   "outputs": [
    {
     "name": "stdout",
     "output_type": "stream",
     "text": [
      "0     60\n",
      "1     61\n",
      "2     62\n",
      "3     63\n",
      "4     64\n",
      "5     65\n",
      "6     66\n",
      "7     67\n",
      "8     68\n",
      "9     69\n",
      "10    70\n",
      "11    71\n",
      "12    72\n",
      "13    73\n",
      "14    74\n",
      "15    75\n",
      "16    76\n",
      "17    77\n",
      "18    78\n",
      "19    79\n",
      "20    80\n",
      "21    81\n",
      "22    82\n",
      "23    83\n",
      "24    84\n",
      "25    85\n",
      "26    86\n",
      "27    87\n",
      "28    88\n",
      "29    89\n",
      "30    90\n",
      "Name: day_of_year, dtype: int32\n"
     ]
    }
   ],
   "source": [
    "# print(\n",
    "#     pd.DataFrame(\n",
    "#         {\n",
    "#             \"day\": pd.date_range(\"2021-03-01\", \"2021-03-31\", freq=\"D\"),\n",
    "#             \"day_of_year\": pd.Series(range(60, 91)),\n",
    "#         }\n",
    "#     )\n",
    "# )\n",
    "\n",
    "date_range = pd.date_range(start=\"2021-03-01\", periods=31)\n",
    "df = pd.DataFrame(data=date_range, columns=[\"day\"])\n",
    "df[\"day_of_year\"] = df[\"day\"].dt.dayofyear\n",
    "print(df[\"day_of_year\"])"
   ]
  },
  {
   "cell_type": "code",
   "execution_count": 21,
   "metadata": {},
   "outputs": [
    {
     "name": "stdout",
     "output_type": "stream",
     "text": [
      "              normal   uniform  binomial\n",
      "2020-01-01  0.496714  0.167483         0\n",
      "2020-01-02 -0.138264  0.104568         0\n",
      "2020-01-03  0.647689  0.636430         0\n",
      "2020-01-04  1.523030  0.706476         0\n",
      "2020-01-05 -0.234153  0.031586         1\n",
      "...              ...       ...       ...\n",
      "2022-09-22 -0.281100  0.280683         1\n",
      "2022-09-23  1.797687  0.206993         0\n",
      "2022-09-24  0.640843  0.516573         0\n",
      "2022-09-25 -0.571179  0.005506         1\n",
      "2022-09-26  0.572583  0.007664         0\n",
      "\n",
      "[1000 rows x 3 columns]\n"
     ]
    }
   ],
   "source": [
    "np.random.seed(42)\n",
    "data_dict = {\n",
    "    \"normal\": np.random.normal(loc=0, scale=1, size=1000),\n",
    "    \"uniform\": np.random.uniform(low=0, high=1, size=1000),\n",
    "    \"binomial\": np.random.binomial(n=1, p=0.2, size=1000),\n",
    "}\n",
    "df = pd.DataFrame(data_dict, index=pd.date_range(\"2020-01-01\", periods=1000, freq=\"D\"))\n",
    "print(df)"
   ]
  },
  {
   "cell_type": "code",
   "execution_count": 23,
   "metadata": {},
   "outputs": [
    {
     "name": "stdout",
     "output_type": "stream",
     "text": [
      "              normal   uniform  binomial\n",
      "2020-01-01  0.496714  0.167483         0\n",
      "2020-01-02 -0.138264  0.104568         0\n",
      "2020-01-03  0.647689  0.636430         0\n",
      "2020-01-04  1.523030  0.706476         0\n",
      "2020-01-05 -0.234153  0.031586         1\n",
      "2020-01-06 -0.234137  0.936212         0\n",
      "2020-01-07  1.579213  0.051971         0\n",
      "2020-01-08  0.767435  0.541296         0\n",
      "2020-01-09 -0.469474  0.709061         1\n",
      "2020-01-10  0.542560  0.870969         0\n",
      "\n",
      "              normal   uniform  binomial\n",
      "2022-09-22 -0.281100  0.280683         1\n",
      "2022-09-23  1.797687  0.206993         0\n",
      "2022-09-24  0.640843  0.516573         0\n",
      "2022-09-25 -0.571179  0.005506         1\n",
      "2022-09-26  0.572583  0.007664         0\n"
     ]
    }
   ],
   "source": [
    "np.random.seed(42)\n",
    "data_dict = {\n",
    "    \"normal\": np.random.normal(loc=0, scale=1, size=1000),\n",
    "    \"uniform\": np.random.uniform(low=0, high=1, size=1000),\n",
    "    \"binomial\": np.random.binomial(n=1, p=0.2, size=1000),\n",
    "}\n",
    "df = pd.DataFrame(data_dict, index=pd.date_range(\"2020-01-01\", periods=1000, freq=\"D\"))\n",
    "# print(df[0:10])\n",
    "# print()\n",
    "# print(df[-5:])\n",
    "\n",
    "print(df.head(10))\n",
    "print()\n",
    "print(df.tail())"
   ]
  },
  {
   "cell_type": "code",
   "execution_count": 24,
   "metadata": {},
   "outputs": [
    {
     "name": "stdout",
     "output_type": "stream",
     "text": [
      "<class 'pandas.core.frame.DataFrame'>\n",
      "DatetimeIndex: 1000 entries, 2020-01-01 to 2022-09-26\n",
      "Freq: D\n",
      "Data columns (total 3 columns):\n",
      " #   Column    Non-Null Count  Dtype  \n",
      "---  ------    --------------  -----  \n",
      " 0   normal    1000 non-null   float64\n",
      " 1   uniform   1000 non-null   float64\n",
      " 2   binomial  1000 non-null   int32  \n",
      "dtypes: float64(2), int32(1)\n",
      "memory usage: 27.3 KB\n",
      "None\n",
      "\n",
      "            normal      uniform    binomial\n",
      "count  1000.000000  1000.000000  1000.00000\n",
      "mean      0.019332     0.503649     0.19200\n",
      "std       0.979216     0.288357     0.39407\n",
      "min      -3.241267     0.003218     0.00000\n",
      "25%      -0.647590     0.247199     0.00000\n",
      "50%       0.025301     0.516126     0.00000\n",
      "75%       0.647944     0.746319     0.00000\n",
      "max       3.852731     0.999414     1.00000\n"
     ]
    }
   ],
   "source": [
    "np.random.seed(42)\n",
    "data_dict = {\n",
    "    \"normal\": np.random.normal(loc=0, scale=1, size=1000),\n",
    "    \"uniform\": np.random.uniform(low=0, high=1, size=1000),\n",
    "    \"binomial\": np.random.binomial(n=1, p=0.2, size=1000),\n",
    "}\n",
    "df = pd.DataFrame(data_dict, index=pd.date_range(\"2020-01-01\", periods=1000, freq=\"D\"))\n",
    "\n",
    "print(df.info())\n",
    "print()\n",
    "print(df.describe())"
   ]
  },
  {
   "cell_type": "code",
   "execution_count": 25,
   "metadata": {},
   "outputs": [
    {
     "name": "stdout",
     "output_type": "stream",
     "text": [
      "binomial\n",
      "0    808\n",
      "1    192\n",
      "Name: count, dtype: int64\n"
     ]
    }
   ],
   "source": [
    "np.random.seed(42)\n",
    "data_dict = {\n",
    "    \"normal\": np.random.normal(loc=0, scale=1, size=1000),\n",
    "    \"uniform\": np.random.uniform(low=0, high=1, size=1000),\n",
    "    \"binomial\": np.random.binomial(n=1, p=0.2, size=1000),\n",
    "}\n",
    "df = pd.DataFrame(data_dict, index=pd.date_range(\"2020-01-01\", periods=1000, freq=\"D\"))\n",
    "\n",
    "print(df[\"binomial\"].value_counts())"
   ]
  },
  {
   "cell_type": "code",
   "execution_count": 28,
   "metadata": {},
   "outputs": [],
   "source": [
    "np.random.seed(42)\n",
    "data_dict = {\n",
    "    \"normal\": np.random.normal(loc=0, scale=1, size=1000),\n",
    "    \"uniform\": np.random.uniform(low=0, high=1, size=1000),\n",
    "    \"binomial\": np.random.binomial(n=1, p=0.2, size=1000),\n",
    "}\n",
    "df = pd.DataFrame(data_dict, index=pd.date_range(\"2020-01-01\", periods=1000, freq=\"D\"))\n",
    "df.head(50).to_csv(\"dataframe50.csv\", sep=\",\")"
   ]
  },
  {
   "cell_type": "code",
   "execution_count": 30,
   "metadata": {},
   "outputs": [
    {
     "name": "stdout",
     "output_type": "stream",
     "text": [
      "              normal   uniform  binomial\n",
      "2020-01-01  0.496714  0.167483         0\n",
      "2020-01-02 -0.138264  0.104568         0\n",
      "2020-01-03  0.647689  0.636430         0\n",
      "2020-01-04  1.523030  0.706476         0\n",
      "2020-01-05 -0.234153  0.031586         1\n",
      "2020-01-06 -0.234137  0.936212         0\n",
      "2020-01-07  1.579213  0.051971         0\n",
      "2020-01-08  0.767435  0.541296         0\n",
      "2020-01-09 -0.469474  0.709061         1\n",
      "2020-01-10  0.542560  0.870969         0\n",
      "2020-01-11 -0.463418  0.714087         0\n",
      "2020-01-12 -0.465730  0.801728         0\n",
      "2020-01-13  0.241962  0.339450         0\n",
      "2020-01-14 -1.913280  0.814825         0\n",
      "2020-01-15 -1.724918  0.080115         0\n",
      "2020-01-16 -0.562288  0.894817         1\n",
      "2020-01-17 -1.012831  0.547592         0\n",
      "2020-01-18  0.314247  0.817298         0\n",
      "2020-01-19 -0.908024  0.452318         1\n",
      "2020-01-20 -1.412304  0.643578         0\n",
      "2020-01-21  1.465649  0.526403         0\n",
      "2020-01-22 -0.225776  0.731590         0\n",
      "2020-01-23  0.067528  0.081630         0\n",
      "2020-01-24 -1.424748  0.060352         0\n",
      "2020-01-25 -0.544383  0.247103         1\n",
      "2020-01-26  0.110923  0.159545         0\n",
      "2020-01-27 -1.150994  0.871784         0\n",
      "2020-01-28  0.375698  0.219214         0\n",
      "2020-01-29 -0.600639  0.975865         1\n",
      "2020-01-30 -0.291694  0.336896         1\n",
      "2020-01-31 -0.601707  0.182118         1\n",
      "2020-02-01  1.852278  0.789699         0\n",
      "2020-02-02 -0.013497  0.658708         0\n",
      "2020-02-03 -1.057711  0.498196         0\n",
      "2020-02-04  0.822545  0.555364         0\n",
      "2020-02-05 -1.220844  0.719202         0\n",
      "2020-02-06  0.208864  0.228455         0\n",
      "2020-02-07 -1.959670  0.996334         0\n",
      "2020-02-08 -1.328186  0.974793         0\n",
      "2020-02-09  0.196861  0.650326         0\n",
      "2020-02-10  0.738467  0.199542         0\n",
      "2020-02-11  0.171368  0.680228         0\n",
      "2020-02-12 -0.115648  0.072198         0\n",
      "2020-02-13 -0.301104  0.030653         0\n",
      "2020-02-14 -1.478522  0.257683         0\n",
      "2020-02-15 -0.719844  0.462623         0\n",
      "2020-02-16 -0.460639  0.868273         0\n",
      "2020-02-17  1.057122  0.727169         0\n",
      "2020-02-18  0.343618  0.742707         1\n",
      "2020-02-19 -1.763040  0.425493         0\n"
     ]
    }
   ],
   "source": [
    "df_new = pd.read_csv(\"dataframe50.csv\", sep=\",\", index_col=0)\n",
    "print(df_new)"
   ]
  }
 ],
 "metadata": {
  "kernelspec": {
   "display_name": ".venv",
   "language": "python",
   "name": "python3"
  },
  "language_info": {
   "codemirror_mode": {
    "name": "ipython",
    "version": 3
   },
   "file_extension": ".py",
   "mimetype": "text/x-python",
   "name": "python",
   "nbconvert_exporter": "python",
   "pygments_lexer": "ipython3",
   "version": "3.11.1"
  }
 },
 "nbformat": 4,
 "nbformat_minor": 2
}
