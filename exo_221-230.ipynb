{
 "cells": [
  {
   "cell_type": "code",
   "execution_count": 1,
   "metadata": {},
   "outputs": [],
   "source": [
    "import numpy as np\n",
    "import pandas as pd"
   ]
  },
  {
   "cell_type": "code",
   "execution_count": 7,
   "metadata": {},
   "outputs": [
    {
     "name": "stdout",
     "output_type": "stream",
     "text": [
      "  emp_id first_name last_name dept_id dept_name\n",
      "0   1001       John     Smith     002     Sales\n",
      "1   1002       Mark      Cook     001        IT\n",
      "2   1003        Bob       Cat     001        IT\n"
     ]
    }
   ],
   "source": [
    "employees = pd.DataFrame(\n",
    "    {\n",
    "        \"emp_id\": [\"1001\", \"1002\", \"1003\", \"1004\"],\n",
    "        \"first_name\": [\"John\", \"Mark\", \"Bob\", \"Alice\"],\n",
    "        \"last_name\": [\"Smith\", \"Cook\", \"Cat\", \"Lee\"],\n",
    "        \"dept_id\": [\"002\", \"001\", \"001\", \"005\"],\n",
    "    }\n",
    ")\n",
    "\n",
    "departments = pd.DataFrame(\n",
    "    {\n",
    "        \"dept_id\": [\"001\", \"002\", \"003\", \"004\"],\n",
    "        \"dept_name\": [\"IT\", \"Sales\", \"Marketing\", \"Support\"],\n",
    "    }\n",
    ")\n",
    "\n",
    "print(employees.merge(departments, on=\"dept_id\", how=\"inner\"))"
   ]
  },
  {
   "cell_type": "code",
   "execution_count": 8,
   "metadata": {},
   "outputs": [
    {
     "name": "stdout",
     "output_type": "stream",
     "text": [
      "  emp_id first_name last_name dept_id dept_name\n",
      "0   1001       John     Smith     002     Sales\n",
      "1   1002       Mark      Cook     001        IT\n",
      "2   1003        Bob       Cat     001        IT\n",
      "3   1004      Alice       Lee     005       NaN\n"
     ]
    }
   ],
   "source": [
    "employees = pd.DataFrame(\n",
    "    {\n",
    "        \"emp_id\": [\"1001\", \"1002\", \"1003\", \"1004\"],\n",
    "        \"first_name\": [\"John\", \"Mark\", \"Bob\", \"Alice\"],\n",
    "        \"last_name\": [\"Smith\", \"Cook\", \"Cat\", \"Lee\"],\n",
    "        \"dept_id\": [\"002\", \"001\", \"001\", \"005\"],\n",
    "    }\n",
    ")\n",
    "\n",
    "departments = pd.DataFrame(\n",
    "    {\n",
    "        \"dept_id\": [\"001\", \"002\", \"003\", \"004\"],\n",
    "        \"dept_name\": [\"IT\", \"Sales\", \"Marketing\", \"Support\"],\n",
    "    }\n",
    ")\n",
    "\n",
    "print(employees.merge(departments, on=\"dept_id\", how=\"left\"))"
   ]
  },
  {
   "cell_type": "code",
   "execution_count": 9,
   "metadata": {},
   "outputs": [
    {
     "name": "stdout",
     "output_type": "stream",
     "text": [
      "  emp_id first_name last_name dept_id  dept_name\n",
      "0   1002       Mark      Cook     001         IT\n",
      "1   1003        Bob       Cat     001         IT\n",
      "2   1001       John     Smith     002      Sales\n",
      "3    NaN        NaN       NaN     003  Marketing\n",
      "4    NaN        NaN       NaN     004    Support\n"
     ]
    }
   ],
   "source": [
    "employees = pd.DataFrame(\n",
    "    {\n",
    "        \"emp_id\": [\"1001\", \"1002\", \"1003\", \"1004\"],\n",
    "        \"first_name\": [\"John\", \"Mark\", \"Bob\", \"Alice\"],\n",
    "        \"last_name\": [\"Smith\", \"Cook\", \"Cat\", \"Lee\"],\n",
    "        \"dept_id\": [\"002\", \"001\", \"001\", \"005\"],\n",
    "    }\n",
    ")\n",
    "\n",
    "departments = pd.DataFrame(\n",
    "    {\n",
    "        \"dept_id\": [\"001\", \"002\", \"003\", \"004\"],\n",
    "        \"dept_name\": [\"IT\", \"Sales\", \"Marketing\", \"Support\"],\n",
    "    }\n",
    ")\n",
    "\n",
    "print(employees.merge(departments, on=\"dept_id\", how=\"right\"))"
   ]
  },
  {
   "cell_type": "code",
   "execution_count": 10,
   "metadata": {},
   "outputs": [
    {
     "name": "stdout",
     "output_type": "stream",
     "text": [
      "  emp_id first_name last_name dept_id  dept_name\n",
      "0   1002       Mark      Cook     001         IT\n",
      "1   1003        Bob       Cat     001         IT\n",
      "2   1001       John     Smith     002      Sales\n",
      "3    NaN        NaN       NaN     003  Marketing\n",
      "4    NaN        NaN       NaN     004    Support\n",
      "5   1004      Alice       Lee     005        NaN\n"
     ]
    }
   ],
   "source": [
    "employees = pd.DataFrame(\n",
    "    {\n",
    "        \"emp_id\": [\"1001\", \"1002\", \"1003\", \"1004\"],\n",
    "        \"first_name\": [\"John\", \"Mark\", \"Bob\", \"Alice\"],\n",
    "        \"last_name\": [\"Smith\", \"Cook\", \"Cat\", \"Lee\"],\n",
    "        \"dept_id\": [\"002\", \"001\", \"001\", \"005\"],\n",
    "    }\n",
    ")\n",
    "\n",
    "departments = pd.DataFrame(\n",
    "    {\n",
    "        \"dept_id\": [\"001\", \"002\", \"003\", \"004\"],\n",
    "        \"dept_name\": [\"IT\", \"Sales\", \"Marketing\", \"Support\"],\n",
    "    }\n",
    ")\n",
    "\n",
    "print(employees.merge(departments, on=\"dept_id\", how=\"outer\"))"
   ]
  },
  {
   "cell_type": "code",
   "execution_count": 11,
   "metadata": {},
   "outputs": [
    {
     "data": {
      "text/html": [
       "<div>\n",
       "<style scoped>\n",
       "    .dataframe tbody tr th:only-of-type {\n",
       "        vertical-align: middle;\n",
       "    }\n",
       "\n",
       "    .dataframe tbody tr th {\n",
       "        vertical-align: top;\n",
       "    }\n",
       "\n",
       "    .dataframe thead th {\n",
       "        text-align: right;\n",
       "    }\n",
       "</style>\n",
       "<table border=\"1\" class=\"dataframe\">\n",
       "  <thead>\n",
       "    <tr style=\"text-align: right;\">\n",
       "      <th></th>\n",
       "      <th>emp_id</th>\n",
       "      <th>first_name</th>\n",
       "      <th>last_name</th>\n",
       "      <th>dept_id</th>\n",
       "      <th>dept_name</th>\n",
       "    </tr>\n",
       "  </thead>\n",
       "  <tbody>\n",
       "    <tr>\n",
       "      <th>0</th>\n",
       "      <td>1001</td>\n",
       "      <td>John</td>\n",
       "      <td>Smith</td>\n",
       "      <td>002</td>\n",
       "      <td>Sales</td>\n",
       "    </tr>\n",
       "    <tr>\n",
       "      <th>1</th>\n",
       "      <td>1002</td>\n",
       "      <td>Mark</td>\n",
       "      <td>Cook</td>\n",
       "      <td>001</td>\n",
       "      <td>IT</td>\n",
       "    </tr>\n",
       "    <tr>\n",
       "      <th>2</th>\n",
       "      <td>1003</td>\n",
       "      <td>Bob</td>\n",
       "      <td>Cat</td>\n",
       "      <td>001</td>\n",
       "      <td>IT</td>\n",
       "    </tr>\n",
       "    <tr>\n",
       "      <th>3</th>\n",
       "      <td>1003</td>\n",
       "      <td>Bob</td>\n",
       "      <td>Cat</td>\n",
       "      <td>001</td>\n",
       "      <td>IT</td>\n",
       "    </tr>\n",
       "  </tbody>\n",
       "</table>\n",
       "</div>"
      ],
      "text/plain": [
       "  emp_id first_name last_name dept_id dept_name\n",
       "0   1001       John     Smith     002     Sales\n",
       "1   1002       Mark      Cook     001        IT\n",
       "2   1003        Bob       Cat     001        IT\n",
       "3   1003        Bob       Cat     001        IT"
      ]
     },
     "execution_count": 11,
     "metadata": {},
     "output_type": "execute_result"
    }
   ],
   "source": [
    "import pandas as pd\n",
    "\n",
    "\n",
    "employees = pd.DataFrame(\n",
    "    {\n",
    "        \"emp_id\": [\"1001\", \"1002\", \"1003\", \"1003\", \"1004\"],\n",
    "        \"first_name\": [\"John\", \"Mark\", \"Bob\", \"Bob\", \"Alice\"],\n",
    "        \"last_name\": [\"Smith\", \"Cook\", \"Cat\", \"Cat\", \"Lee\"],\n",
    "        \"dept_id\": [\"002\", \"001\", \"001\", \"001\", \"005\"],\n",
    "    }\n",
    ")\n",
    "\n",
    "departments = pd.DataFrame(\n",
    "    {\n",
    "        \"dept_id\": [\"001\", \"002\", \"003\", \"004\"],\n",
    "        \"dept_name\": [\"IT\", \"Sales\", \"Marketing\", \"Support\"],\n",
    "    }\n",
    ")\n",
    "\n",
    "employees.merge(departments, how=\"inner\", on=\"dept_id\")"
   ]
  },
  {
   "cell_type": "code",
   "execution_count": 12,
   "metadata": {},
   "outputs": [
    {
     "data": {
      "text/html": [
       "<div>\n",
       "<style scoped>\n",
       "    .dataframe tbody tr th:only-of-type {\n",
       "        vertical-align: middle;\n",
       "    }\n",
       "\n",
       "    .dataframe tbody tr th {\n",
       "        vertical-align: top;\n",
       "    }\n",
       "\n",
       "    .dataframe thead th {\n",
       "        text-align: right;\n",
       "    }\n",
       "</style>\n",
       "<table border=\"1\" class=\"dataframe\">\n",
       "  <thead>\n",
       "    <tr style=\"text-align: right;\">\n",
       "      <th></th>\n",
       "      <th>emp_id</th>\n",
       "      <th>first_name</th>\n",
       "      <th>last_name</th>\n",
       "      <th>dept_id</th>\n",
       "      <th>dept_name</th>\n",
       "    </tr>\n",
       "  </thead>\n",
       "  <tbody>\n",
       "    <tr>\n",
       "      <th>0</th>\n",
       "      <td>1001</td>\n",
       "      <td>John</td>\n",
       "      <td>Smith</td>\n",
       "      <td>002</td>\n",
       "      <td>Sales</td>\n",
       "    </tr>\n",
       "    <tr>\n",
       "      <th>1</th>\n",
       "      <td>1002</td>\n",
       "      <td>Mark</td>\n",
       "      <td>Cook</td>\n",
       "      <td>001</td>\n",
       "      <td>IT</td>\n",
       "    </tr>\n",
       "    <tr>\n",
       "      <th>2</th>\n",
       "      <td>1003</td>\n",
       "      <td>Bob</td>\n",
       "      <td>Cat</td>\n",
       "      <td>001</td>\n",
       "      <td>IT</td>\n",
       "    </tr>\n",
       "  </tbody>\n",
       "</table>\n",
       "</div>"
      ],
      "text/plain": [
       "  emp_id first_name last_name dept_id dept_name\n",
       "0   1001       John     Smith     002     Sales\n",
       "1   1002       Mark      Cook     001        IT\n",
       "2   1003        Bob       Cat     001        IT"
      ]
     },
     "execution_count": 12,
     "metadata": {},
     "output_type": "execute_result"
    }
   ],
   "source": [
    "import pandas as pd\n",
    "\n",
    "\n",
    "employees = pd.DataFrame(\n",
    "    {\n",
    "        \"emp_id\": [\"1001\", \"1002\", \"1003\", \"1003\", \"1004\"],\n",
    "        \"first_name\": [\"John\", \"Mark\", \"Bob\", \"Bob\", \"Alice\"],\n",
    "        \"last_name\": [\"Smith\", \"Cook\", \"Cat\", \"Cat\", \"Lee\"],\n",
    "        \"dept_id\": [\"002\", \"001\", \"001\", \"001\", \"005\"],\n",
    "    }\n",
    ")\n",
    "\n",
    "departments = pd.DataFrame(\n",
    "    {\n",
    "        \"dept_id\": [\"001\", \"002\", \"003\", \"004\"],\n",
    "        \"dept_name\": [\"IT\", \"Sales\", \"Marketing\", \"Support\"],\n",
    "    }\n",
    ")\n",
    "\n",
    "employees_unique = employees.drop_duplicates()\n",
    "employees_unique.merge(departments, how=\"inner\", on=\"dept_id\")"
   ]
  },
  {
   "cell_type": "code",
   "execution_count": 21,
   "metadata": {},
   "outputs": [
    {
     "name": "stdout",
     "output_type": "stream",
     "text": [
      "           tip  total_bill\n",
      "day                       \n",
      "Fri   2.734737   17.151579\n",
      "Sat   2.993103   20.441379\n",
      "Sun   3.255132   21.410000\n",
      "Thur  2.771452   17.682742\n"
     ]
    }
   ],
   "source": [
    "pd.set_option(\"display.max_columns\", 30)\n",
    "pd.set_option(\"display.width\", 1000)\n",
    "tips = pd.read_csv(\n",
    "    \"https://raw.githubusercontent.com/mwaskom/seaborn-data/\" \"master/tips.csv\"\n",
    ")\n",
    "\n",
    "# print(pd.pivot_table(tips, index=\"day\", values=[\"tip\", \"total_bill\"], aggfunc=\"mean\"))\n",
    "print(tips.groupby(\"day\")[[\"tip\", \"total_bill\"]].mean())"
   ]
  },
  {
   "cell_type": "code",
   "execution_count": 20,
   "metadata": {},
   "outputs": [
    {
     "name": "stdout",
     "output_type": "stream",
     "text": [
      "                  tip  total_bill\n",
      "day  sex                         \n",
      "Fri  Female  2.781111   14.145556\n",
      "     Male    2.693000   19.857000\n",
      "Sat  Female  2.801786   19.680357\n",
      "     Male    3.083898   20.802542\n",
      "Sun  Female  3.367222   19.872222\n",
      "     Male    3.220345   21.887241\n",
      "Thur Female  2.575625   16.715312\n",
      "     Male    2.980333   18.714667\n"
     ]
    }
   ],
   "source": [
    "pd.set_option(\"display.max_columns\", 30)\n",
    "pd.set_option(\"display.width\", 1000)\n",
    "tips = pd.read_csv(\n",
    "    \"https://raw.githubusercontent.com/mwaskom/seaborn-data/\" \"master/tips.csv\"\n",
    ")\n",
    "print(\n",
    "    tips.pivot_table(index=[\"day\", \"sex\"], values=[\"tip\", \"total_bill\"], aggfunc=\"mean\")\n",
    ")"
   ]
  },
  {
   "cell_type": "code",
   "execution_count": 22,
   "metadata": {},
   "outputs": [
    {
     "name": "stdout",
     "output_type": "stream",
     "text": [
      "        tip  total_bill\n",
      "day                    \n",
      "Fri    4.73       40.17\n",
      "Sat   10.00       50.81\n",
      "Sun    6.50       48.17\n",
      "Thur   6.70       43.11\n"
     ]
    }
   ],
   "source": [
    "pd.set_option(\"display.max_columns\", 30)\n",
    "pd.set_option(\"display.width\", 1000)\n",
    "tips = pd.read_csv(\n",
    "    \"https://raw.githubusercontent.com/mwaskom/seaborn-data/\" \"master/tips.csv\"\n",
    ")\n",
    "print(tips.pivot_table(index=\"day\", values=[\"tip\", \"total_bill\"], aggfunc=\"max\"))"
   ]
  },
  {
   "cell_type": "code",
   "execution_count": 23,
   "metadata": {},
   "outputs": [
    {
     "name": "stdout",
     "output_type": "stream",
     "text": [
      "                         tip  total_bill\n",
      "day  sex    smoker                      \n",
      "Fri  Female No      3.125000   19.365000\n",
      "            Yes     2.682857   12.654286\n",
      "     Male   No      2.500000   17.475000\n",
      "            Yes     2.741250   20.452500\n",
      "Sat  Female No      2.724615   19.003846\n",
      "            Yes     2.868667   20.266667\n",
      "     Male   No      3.256563   19.929063\n",
      "            Yes     2.879259   21.837778\n",
      "Sun  Female No      3.329286   20.824286\n",
      "            Yes     3.500000   16.540000\n",
      "     Male   No      3.115349   20.403256\n",
      "            Yes     3.521333   26.141333\n",
      "Thur Female No      2.459600   16.014400\n",
      "            Yes     2.990000   19.218571\n",
      "     Male   No      2.941500   18.486500\n",
      "            Yes     3.058000   19.171000\n"
     ]
    }
   ],
   "source": [
    "pd.set_option(\"display.max_columns\", 30)\n",
    "pd.set_option(\"display.width\", 1000)\n",
    "tips = pd.read_csv(\n",
    "    \"https://raw.githubusercontent.com/mwaskom/seaborn-data/\" \"master/tips.csv\"\n",
    ")\n",
    "print(\n",
    "    tips.pivot_table(\n",
    "        index=[\"day\", \"sex\", \"smoker\"], values=[\"tip\", \"total_bill\"], aggfunc=\"mean\"\n",
    "    )\n",
    ")"
   ]
  }
 ],
 "metadata": {
  "kernelspec": {
   "display_name": ".venv",
   "language": "python",
   "name": "python3"
  },
  "language_info": {
   "codemirror_mode": {
    "name": "ipython",
    "version": 3
   },
   "file_extension": ".py",
   "mimetype": "text/x-python",
   "name": "python",
   "nbconvert_exporter": "python",
   "pygments_lexer": "ipython3",
   "version": "3.11.1"
  }
 },
 "nbformat": 4,
 "nbformat_minor": 2
}
