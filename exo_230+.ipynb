{
 "cells": [
  {
   "cell_type": "code",
   "execution_count": 6,
   "metadata": {},
   "outputs": [],
   "source": [
    "import numpy as np\n",
    "import pandas as pd"
   ]
  },
  {
   "cell_type": "code",
   "execution_count": 2,
   "metadata": {},
   "outputs": [
    {
     "name": "stdout",
     "output_type": "stream",
     "text": [
      "x = 3.00\n",
      "y = -2.00\n"
     ]
    }
   ],
   "source": [
    "coeff = np.array([[5, -3], [1, -2]])\n",
    "result = np.array([[21], [7]])\n",
    "X = np.linalg.inv(coeff) @ result\n",
    "x = X[0][0]\n",
    "y = X[1][0]\n",
    "print(f\"x = {x:.2f}\\ny = {y:.2f}\")"
   ]
  },
  {
   "cell_type": "code",
   "execution_count": 5,
   "metadata": {},
   "outputs": [
    {
     "name": "stdout",
     "output_type": "stream",
     "text": [
      "x = 0.50\n",
      "y = 0.88\n",
      "z = -0.38\n"
     ]
    }
   ],
   "source": [
    "coeff = np.array([[1, 1, 1], [2, 1, 5], [1, -1, -1]])\n",
    "result = np.array([[1], [0], [0]])\n",
    "X = np.linalg.inv(coeff) @ result\n",
    "x = X[0][0]\n",
    "y = X[1][0]\n",
    "z = X[2][0]\n",
    "\n",
    "print(f\"x = {x:.2f}\\ny = {y:.2f}\\nz = {z:.2f}\")"
   ]
  },
  {
   "cell_type": "code",
   "execution_count": 10,
   "metadata": {},
   "outputs": [
    {
     "name": "stdout",
     "output_type": "stream",
     "text": [
      "                    tip  total_bill\n",
      "sex    smoker                      \n",
      "Female No      3.329286   20.824286\n",
      "       Yes     3.500000   16.540000\n",
      "Male   No      3.115349   20.403256\n",
      "       Yes     3.521333   26.141333\n"
     ]
    }
   ],
   "source": [
    "pd.set_option(\"display.max_columns\", 30)\n",
    "pd.set_option(\"display.width\", 1000)\n",
    "tips = pd.read_csv(\n",
    "    \"https://raw.githubusercontent.com/mwaskom/seaborn-data/\" \"master/tips.csv\"\n",
    ")\n",
    "print(\n",
    "    tips.pivot_table(\n",
    "        index=[\"day\", \"sex\", \"smoker\"], values=[\"tip\", \"total_bill\"], aggfunc=\"mean\"\n",
    "    ).loc[\"Sun\"]\n",
    ")"
   ]
  },
  {
   "cell_type": "code",
   "execution_count": 12,
   "metadata": {},
   "outputs": [
    {
     "name": "stdout",
     "output_type": "stream",
     "text": [
      "             tip  total_bill\n",
      "smoker                      \n",
      "No      3.115349   20.403256\n",
      "Yes     3.521333   26.141333\n"
     ]
    }
   ],
   "source": [
    "pd.set_option(\"display.max_columns\", 30)\n",
    "pd.set_option(\"display.width\", 1000)\n",
    "tips = pd.read_csv(\n",
    "    \"https://raw.githubusercontent.com/mwaskom/seaborn-data/\" \"master/tips.csv\"\n",
    ")\n",
    "print(\n",
    "    tips.pivot_table(\n",
    "        index=[\"day\", \"sex\", \"smoker\"], values=[\"tip\", \"total_bill\"], aggfunc=\"mean\"\n",
    "    )\n",
    "    .loc[\"Sun\"]\n",
    "    .loc[\"Male\"]\n",
    ")"
   ]
  }
 ],
 "metadata": {
  "kernelspec": {
   "display_name": ".venv",
   "language": "python",
   "name": "python3"
  },
  "language_info": {
   "codemirror_mode": {
    "name": "ipython",
    "version": 3
   },
   "file_extension": ".py",
   "mimetype": "text/x-python",
   "name": "python",
   "nbconvert_exporter": "python",
   "pygments_lexer": "ipython3",
   "version": "3.11.1"
  }
 },
 "nbformat": 4,
 "nbformat_minor": 2
}
