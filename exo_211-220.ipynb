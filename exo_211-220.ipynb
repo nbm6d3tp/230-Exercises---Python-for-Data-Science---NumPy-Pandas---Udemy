{
 "cells": [
  {
   "cell_type": "code",
   "execution_count": 2,
   "metadata": {},
   "outputs": [],
   "source": [
    "import numpy as np\n",
    "import pandas as pd"
   ]
  },
  {
   "cell_type": "code",
   "execution_count": 3,
   "metadata": {},
   "outputs": [
    {
     "name": "stdout",
     "output_type": "stream",
     "text": [
      "     amzn_date  amzn_open  amzn_high   amzn_low  amzn_close  amzn_volume  \\\n",
      "0   2020-09-22  3033.8350  3133.9900  3000.2000     3128.99      6948816   \n",
      "1   2020-09-21  2906.5000  2962.0000  2871.0000     2960.47      6117925   \n",
      "2   2020-09-18  3031.7400  3037.8000  2905.5400     2954.91      8892580   \n",
      "3   2020-09-17  3009.2500  3029.4320  2972.5500     3008.73      6449050   \n",
      "4   2020-09-16  3179.9900  3187.2380  3074.1500     3078.10      4531189   \n",
      "5   2020-09-15  3136.1600  3175.0200  3108.9200     3156.13      4021535   \n",
      "6   2020-09-14  3172.9372  3187.3900  3096.0000     3102.97      4529596   \n",
      "7   2020-09-11  3208.6900  3217.3409  3083.9800     3116.22      5093982   \n",
      "8   2020-09-10  3307.2188  3349.8900  3170.5500     3175.11      5330741   \n",
      "9   2020-09-09  3202.9900  3303.1750  3185.0000     3268.61      5188675   \n",
      "10  2020-09-08  3144.0000  3250.8450  3130.0000     3149.84      6094205   \n",
      "11  2020-09-04  3318.0000  3381.5000  3111.1300     3294.62      8781754   \n",
      "12  2020-09-03  3485.0000  3488.4100  3303.0000     3368.00      8161113   \n",
      "13  2020-09-02  3547.0000  3552.2500  3486.6850     3531.45      3931476   \n",
      "14  2020-09-01  3489.5800  3513.8700  3467.0000     3499.12      3476407   \n",
      "15  2020-08-31  3408.9900  3495.0000  3405.0000     3450.96      4185885   \n",
      "16  2020-08-28  3423.0000  3433.3699  3386.5000     3401.80      2896978   \n",
      "17  2020-08-27  3450.0500  3453.0000  3378.0000     3400.00      4264795   \n",
      "18  2020-08-26  3351.1100  3451.7387  3344.5675     3441.85      6508743   \n",
      "19  2020-08-25  3294.9900  3357.4000  3267.0000     3346.49      3992842   \n",
      "\n",
      "     tsla_date  tsla_open  tsla_high  tsla_low  tsla_close  tsla_volume  \n",
      "0   2020-09-22     429.60     437.76  417.6001      424.23     79580795  \n",
      "1   2020-09-21     453.13     455.68  407.0700      449.39    109476800  \n",
      "2   2020-09-18     447.94     451.00  428.8000      442.15     86406819  \n",
      "3   2020-09-17     415.60     437.79  408.0001      423.43     76779163  \n",
      "4   2020-09-16     439.87     457.79  435.3100      441.76     72546760  \n",
      "5   2020-09-15     436.56     461.94  430.7000      449.76     97298228  \n",
      "6   2020-09-14     380.95     420.00  373.3000      419.62     83020608  \n",
      "7   2020-09-11     381.94     382.50  360.5000      372.72     60717459  \n",
      "8   2020-09-10     386.21     398.99  360.5600      371.34     84930608  \n",
      "9   2020-09-09     356.60     369.00  341.5100      366.28     79465769  \n",
      "10  2020-09-08     356.00     368.74  329.8800      330.21    115465691  \n",
      "11  2020-09-04     402.81     428.00  372.0201      418.32    110321885  \n",
      "12  2020-09-03     407.23     431.80  402.0000      407.00     87596086  \n",
      "13  2020-09-02     478.99     479.04  405.1206      447.37     96176128  \n",
      "14  2020-09-01     502.14     502.49  470.5100      475.05     90119419  \n",
      "15  2020-08-31     444.61     500.14  440.1100      498.32    118374406  \n",
      "16  2020-08-28     459.02     463.70  437.3000      442.68    100405880  \n",
      "17  2020-08-27     436.09     459.12  428.5000      447.75    118465215  \n",
      "18  2020-08-26     412.00     433.20  410.7300      430.63     71196910  \n",
      "19  2020-08-25     394.98     405.59  393.6000      404.67     53294465  \n"
     ]
    }
   ],
   "source": [
    "amazon = pd.read_csv(\"amazon.csv\")\n",
    "tesla = pd.read_csv(\"tesla.csv\")\n",
    "amazon.columns = amazon.columns.map(lambda x: (\"amzn_\" + x).lower())\n",
    "tesla.columns = tesla.columns.map(lambda x: (\"tsla_\" + x).lower())\n",
    "\n",
    "result = pd.concat([amazon, tesla], axis=1)\n",
    "print(result)"
   ]
  },
  {
   "cell_type": "code",
   "execution_count": 4,
   "metadata": {},
   "outputs": [
    {
     "name": "stdout",
     "output_type": "stream",
     "text": [
      "    amzn_open  amzn_close  tsla_open  tsla_close\n",
      "0   3033.8350     3128.99     429.60      424.23\n",
      "1   2906.5000     2960.47     453.13      449.39\n",
      "2   3031.7400     2954.91     447.94      442.15\n",
      "3   3009.2500     3008.73     415.60      423.43\n",
      "4   3179.9900     3078.10     439.87      441.76\n",
      "5   3136.1600     3156.13     436.56      449.76\n",
      "6   3172.9372     3102.97     380.95      419.62\n",
      "7   3208.6900     3116.22     381.94      372.72\n",
      "8   3307.2188     3175.11     386.21      371.34\n",
      "9   3202.9900     3268.61     356.60      366.28\n",
      "10  3144.0000     3149.84     356.00      330.21\n",
      "11  3318.0000     3294.62     402.81      418.32\n",
      "12  3485.0000     3368.00     407.23      407.00\n",
      "13  3547.0000     3531.45     478.99      447.37\n",
      "14  3489.5800     3499.12     502.14      475.05\n",
      "15  3408.9900     3450.96     444.61      498.32\n",
      "16  3423.0000     3401.80     459.02      442.68\n",
      "17  3450.0500     3400.00     436.09      447.75\n",
      "18  3351.1100     3441.85     412.00      430.63\n",
      "19  3294.9900     3346.49     394.98      404.67\n"
     ]
    }
   ],
   "source": [
    "amazon = pd.read_csv(\"amazon.csv\")\n",
    "tesla = pd.read_csv(\"tesla.csv\")\n",
    "amazon.columns = amazon.columns.map(lambda x: (\"amzn_\" + x).lower())\n",
    "tesla.columns = tesla.columns.map(lambda x: (\"tsla_\" + x).lower())\n",
    "result = pd.concat([amazon, tesla], axis=1)\n",
    "\n",
    "quotations = result[[\"amzn_open\", \"amzn_close\", \"tsla_open\", \"tsla_close\"]].copy()\n",
    "print(quotations)"
   ]
  },
  {
   "cell_type": "code",
   "execution_count": 5,
   "metadata": {},
   "outputs": [
    {
     "name": "stdout",
     "output_type": "stream",
     "text": [
      "    amzn_open  amzn_close  tsla_open  tsla_close  amzn_change  tsla_change\n",
      "0   3033.8350     3128.99     429.60      424.23     3.136459    -1.250000\n",
      "1   2906.5000     2960.47     453.13      449.39     1.856873    -0.825370\n",
      "2   3031.7400     2954.91     447.94      442.15    -2.534188    -1.292584\n",
      "3   3009.2500     3008.73     415.60      423.43    -0.017280     1.884023\n",
      "4   3179.9900     3078.10     439.87      441.76    -3.204098     0.429672\n",
      "5   3136.1600     3156.13     436.56      449.76     0.636766     3.023639\n",
      "6   3172.9372     3102.97     380.95      419.62    -2.205124    10.150938\n",
      "7   3208.6900     3116.22     381.94      372.72    -2.881861    -2.413992\n",
      "8   3307.2188     3175.11     386.21      371.34    -3.994559    -3.850237\n",
      "9   3202.9900     3268.61     356.60      366.28     2.048711     2.714526\n",
      "10  3144.0000     3149.84     356.00      330.21     0.185751    -7.244382\n",
      "11  3318.0000     3294.62     402.81      418.32    -0.704641     3.850451\n",
      "12  3485.0000     3368.00     407.23      407.00    -3.357245    -0.056479\n",
      "13  3547.0000     3531.45     478.99      447.37    -0.438399    -6.601390\n",
      "14  3489.5800     3499.12     502.14      475.05     0.273385    -5.394910\n",
      "15  3408.9900     3450.96     444.61      498.32     1.231156    12.080250\n",
      "16  3423.0000     3401.80     459.02      442.68    -0.619340    -3.559758\n",
      "17  3450.0500     3400.00     436.09      447.75    -1.450704     2.673760\n",
      "18  3351.1100     3441.85     412.00      430.63     2.707760     4.521845\n",
      "19  3294.9900     3346.49     394.98      404.67     1.562979     2.453289\n"
     ]
    }
   ],
   "source": [
    "amazon = pd.read_csv(\"amazon.csv\")\n",
    "tesla = pd.read_csv(\"tesla.csv\")\n",
    "amazon.columns = amazon.columns.map(lambda x: (\"amzn_\" + x).lower())\n",
    "tesla.columns = tesla.columns.map(lambda x: (\"tsla_\" + x).lower())\n",
    "result = pd.concat([amazon, tesla], axis=1)\n",
    "quotations = result[[\"amzn_open\", \"amzn_close\", \"tsla_open\", \"tsla_close\"]].copy()\n",
    "\n",
    "quotations[\"amzn_change\"] = (\n",
    "    quotations[\"amzn_close\"] / quotations[\"amzn_open\"] - 1\n",
    ") * 100\n",
    "quotations[\"tsla_change\"] = (\n",
    "    quotations[\"tsla_close\"] / quotations[\"tsla_open\"] - 1\n",
    ") * 100\n",
    "\n",
    "print(quotations)"
   ]
  },
  {
   "cell_type": "code",
   "execution_count": 6,
   "metadata": {},
   "outputs": [
    {
     "name": "stdout",
     "output_type": "stream",
     "text": [
      "    amzn_open  amzn_close  tsla_open  tsla_close  amzn_change  tsla_change  \\\n",
      "0   3033.8350     3128.99     429.60      424.23     3.136459    -1.250000   \n",
      "1   2906.5000     2960.47     453.13      449.39     1.856873    -0.825370   \n",
      "2   3031.7400     2954.91     447.94      442.15    -2.534188    -1.292584   \n",
      "3   3009.2500     3008.73     415.60      423.43    -0.017280     1.884023   \n",
      "4   3179.9900     3078.10     439.87      441.76    -3.204098     0.429672   \n",
      "5   3136.1600     3156.13     436.56      449.76     0.636766     3.023639   \n",
      "6   3172.9372     3102.97     380.95      419.62    -2.205124    10.150938   \n",
      "7   3208.6900     3116.22     381.94      372.72    -2.881861    -2.413992   \n",
      "8   3307.2188     3175.11     386.21      371.34    -3.994559    -3.850237   \n",
      "9   3202.9900     3268.61     356.60      366.28     2.048711     2.714526   \n",
      "10  3144.0000     3149.84     356.00      330.21     0.185751    -7.244382   \n",
      "11  3318.0000     3294.62     402.81      418.32    -0.704641     3.850451   \n",
      "12  3485.0000     3368.00     407.23      407.00    -3.357245    -0.056479   \n",
      "13  3547.0000     3531.45     478.99      447.37    -0.438399    -6.601390   \n",
      "14  3489.5800     3499.12     502.14      475.05     0.273385    -5.394910   \n",
      "15  3408.9900     3450.96     444.61      498.32     1.231156    12.080250   \n",
      "16  3423.0000     3401.80     459.02      442.68    -0.619340    -3.559758   \n",
      "17  3450.0500     3400.00     436.09      447.75    -1.450704     2.673760   \n",
      "18  3351.1100     3441.85     412.00      430.63     2.707760     4.521845   \n",
      "19  3294.9900     3346.49     394.98      404.67     1.562979     2.453289   \n",
      "\n",
      "    similarity_flag  \n",
      "0                 0  \n",
      "1                 0  \n",
      "2                 1  \n",
      "3                 0  \n",
      "4                 0  \n",
      "5                 1  \n",
      "6                 0  \n",
      "7                 1  \n",
      "8                 1  \n",
      "9                 1  \n",
      "10                0  \n",
      "11                0  \n",
      "12                1  \n",
      "13                1  \n",
      "14                0  \n",
      "15                1  \n",
      "16                1  \n",
      "17                0  \n",
      "18                1  \n",
      "19                1  \n"
     ]
    }
   ],
   "source": [
    "amazon = pd.read_csv(\"amazon.csv\")\n",
    "tesla = pd.read_csv(\"tesla.csv\")\n",
    "amazon.columns = amazon.columns.map(lambda x: (\"amzn_\" + x).lower())\n",
    "tesla.columns = tesla.columns.map(lambda x: (\"tsla_\" + x).lower())\n",
    "result = pd.concat([amazon, tesla], axis=1)\n",
    "quotations = result[[\"amzn_open\", \"amzn_close\", \"tsla_open\", \"tsla_close\"]].copy()\n",
    "\n",
    "quotations[\"amzn_change\"] = (\n",
    "    quotations[\"amzn_close\"] / quotations[\"amzn_open\"] - 1\n",
    ") * 100\n",
    "quotations[\"tsla_change\"] = (\n",
    "    quotations[\"tsla_close\"] / quotations[\"tsla_open\"] - 1\n",
    ") * 100\n",
    "\n",
    "quotations[\"similarity_flag\"] = (\n",
    "    (quotations[\"amzn_change\"] * quotations[\"tsla_change\"]) >= 0\n",
    ").astype(int)\n",
    "\n",
    "print(quotations)"
   ]
  },
  {
   "cell_type": "code",
   "execution_count": 18,
   "metadata": {},
   "outputs": [
    {
     "name": "stdout",
     "output_type": "stream",
     "text": [
      "55.00%\n"
     ]
    }
   ],
   "source": [
    "amazon = pd.read_csv(\"amazon.csv\")\n",
    "tesla = pd.read_csv(\"tesla.csv\")\n",
    "amazon.columns = amazon.columns.map(lambda x: (\"amzn_\" + x).lower())\n",
    "tesla.columns = tesla.columns.map(lambda x: (\"tsla_\" + x).lower())\n",
    "result = pd.concat([amazon, tesla], axis=1)\n",
    "quotations = result[[\"amzn_open\", \"amzn_close\", \"tsla_open\", \"tsla_close\"]].copy()\n",
    "\n",
    "quotations[\"amzn_change\"] = (\n",
    "    quotations[\"amzn_close\"] / quotations[\"amzn_open\"] - 1\n",
    ") * 100\n",
    "quotations[\"tsla_change\"] = (\n",
    "    quotations[\"tsla_close\"] / quotations[\"tsla_open\"] - 1\n",
    ") * 100\n",
    "\n",
    "quotations[\"similarity_flag\"] = (\n",
    "    (quotations[\"amzn_change\"] * quotations[\"tsla_change\"]) >= 0\n",
    ").astype(int)\n",
    "\n",
    "# result = quotations[\"similarity_flag\"].value_counts(True)[1]\n",
    "result = quotations[\"similarity_flag\"].sum() / len(quotations)\n",
    "print(f\"{result * 100:.2f}%\")"
   ]
  },
  {
   "cell_type": "code",
   "execution_count": 19,
   "metadata": {},
   "outputs": [
    {
     "name": "stdout",
     "output_type": "stream",
     "text": [
      "  product_id          name    price\n",
      "0        001  mobile phone  1490.00\n",
      "1        004        laptop  3400.00\n",
      "2        007         mouse    59.99\n",
      "3        010        tablet   999.00\n",
      "  order_id product_id  quantity\n",
      "0     1001        004         2\n",
      "1     1002        001         1\n",
      "2     1003        001         1\n",
      "3     1004        007         3\n",
      "  order_id product_id  quantity\n",
      "0     1005        010         2\n",
      "1     1006        001         1\n",
      "2     1007        007         1\n"
     ]
    }
   ],
   "source": [
    "products_dict = {\n",
    "    \"product_id\": [\"001\", \"004\", \"007\", \"010\"],\n",
    "    \"name\": [\"mobile phone\", \"laptop\", \"mouse\", \"tablet\"],\n",
    "    \"price\": [1490.0, 3400.0, 59.99, 999.00],\n",
    "}\n",
    "\n",
    "orders_day_1_dict = {\n",
    "    \"order_id\": [\"1001\", \"1002\", \"1003\", \"1004\"],\n",
    "    \"product_id\": [\"004\", \"001\", \"001\", \"007\"],\n",
    "    \"quantity\": [2, 1, 1, 3],\n",
    "}\n",
    "\n",
    "orders_day_2_dict = {\n",
    "    \"order_id\": [\"1005\", \"1006\", \"1007\"],\n",
    "    \"product_id\": [\"010\", \"001\", \"007\"],\n",
    "    \"quantity\": [2, 1, 1],\n",
    "}\n",
    "\n",
    "products = pd.DataFrame(products_dict)\n",
    "orders_day_1 = pd.DataFrame(orders_day_1_dict)\n",
    "orders_day_2 = pd.DataFrame(orders_day_2_dict)\n",
    "\n",
    "print(products)\n",
    "print(orders_day_1)\n",
    "print(orders_day_2)"
   ]
  },
  {
   "cell_type": "code",
   "execution_count": 25,
   "metadata": {},
   "outputs": [
    {
     "name": "stdout",
     "output_type": "stream",
     "text": [
      "  order_id product_id  quantity\n",
      "0     1001        004         2\n",
      "1     1002        001         1\n",
      "2     1003        001         1\n",
      "3     1004        007         3\n",
      "0     1005        010         2\n",
      "1     1006        001         1\n",
      "2     1007        007         1\n"
     ]
    }
   ],
   "source": [
    "products_dict = {\n",
    "    \"product_id\": [\"001\", \"004\", \"007\", \"010\"],\n",
    "    \"name\": [\"mobile phone\", \"laptop\", \"mouse\", \"tablet\"],\n",
    "    \"price\": [1490.0, 3400.0, 59.99, 999.00],\n",
    "}\n",
    "\n",
    "orders_day_1_dict = {\n",
    "    \"order_id\": [\"1001\", \"1002\", \"1003\", \"1004\"],\n",
    "    \"product_id\": [\"004\", \"001\", \"001\", \"007\"],\n",
    "    \"quantity\": [2, 1, 1, 3],\n",
    "}\n",
    "\n",
    "orders_day_2_dict = {\n",
    "    \"order_id\": [\"1005\", \"1006\", \"1007\"],\n",
    "    \"product_id\": [\"010\", \"001\", \"007\"],\n",
    "    \"quantity\": [2, 1, 1],\n",
    "}\n",
    "\n",
    "products = pd.DataFrame(products_dict)\n",
    "orders_day_1 = pd.DataFrame(orders_day_1_dict)\n",
    "orders_day_2 = pd.DataFrame(orders_day_2_dict)\n",
    "\n",
    "orders = pd.concat([orders_day_1, orders_day_2], axis=0)\n",
    "print(orders)"
   ]
  },
  {
   "cell_type": "code",
   "execution_count": 34,
   "metadata": {},
   "outputs": [
    {
     "name": "stdout",
     "output_type": "stream",
     "text": [
      "  order_id product_id  quantity          name    price\n",
      "0     1001        004         2        laptop  3400.00\n",
      "1     1002        001         1  mobile phone  1490.00\n",
      "2     1003        001         1  mobile phone  1490.00\n",
      "3     1004        007         3         mouse    59.99\n",
      "4     1005        010         2        tablet   999.00\n",
      "5     1006        001         1  mobile phone  1490.00\n",
      "6     1007        007         1         mouse    59.99\n"
     ]
    }
   ],
   "source": [
    "products_dict = {\n",
    "    \"product_id\": [\"001\", \"004\", \"007\", \"010\"],\n",
    "    \"name\": [\"mobile phone\", \"laptop\", \"mouse\", \"tablet\"],\n",
    "    \"price\": [1490.0, 3400.0, 59.99, 999.00],\n",
    "}\n",
    "\n",
    "orders_day_1_dict = {\n",
    "    \"order_id\": [\"1001\", \"1002\", \"1003\", \"1004\"],\n",
    "    \"product_id\": [\"004\", \"001\", \"001\", \"007\"],\n",
    "    \"quantity\": [2, 1, 1, 3],\n",
    "}\n",
    "\n",
    "orders_day_2_dict = {\n",
    "    \"order_id\": [\"1005\", \"1006\", \"1007\"],\n",
    "    \"product_id\": [\"010\", \"001\", \"007\"],\n",
    "    \"quantity\": [2, 1, 1],\n",
    "}\n",
    "\n",
    "products = pd.DataFrame(products_dict)\n",
    "orders_day_1 = pd.DataFrame(orders_day_1_dict)\n",
    "orders_day_2 = pd.DataFrame(orders_day_2_dict)\n",
    "\n",
    "orders = pd.concat([orders_day_1, orders_day_2], axis=0)\n",
    "# result = orders.join(products.set_index(\"product_id\"), on=\"product_id\")\n",
    "result = pd.merge(orders, products, on=\"product_id\")\n",
    "print(result)"
   ]
  },
  {
   "cell_type": "code",
   "execution_count": 35,
   "metadata": {},
   "outputs": [
    {
     "name": "stdout",
     "output_type": "stream",
     "text": [
      "  order_id product_id  quantity          name    price    total\n",
      "0     1001        004         2        laptop  3400.00  6800.00\n",
      "1     1002        001         1  mobile phone  1490.00  1490.00\n",
      "2     1003        001         1  mobile phone  1490.00  1490.00\n",
      "3     1004        007         3         mouse    59.99   179.97\n",
      "4     1005        010         2        tablet   999.00  1998.00\n",
      "5     1006        001         1  mobile phone  1490.00  1490.00\n",
      "6     1007        007         1         mouse    59.99    59.99\n"
     ]
    }
   ],
   "source": [
    "products_dict = {\n",
    "    \"product_id\": [\"001\", \"004\", \"007\", \"010\"],\n",
    "    \"name\": [\"mobile phone\", \"laptop\", \"mouse\", \"tablet\"],\n",
    "    \"price\": [1490.0, 3400.0, 59.99, 999.00],\n",
    "}\n",
    "\n",
    "orders_day_1_dict = {\n",
    "    \"order_id\": [\"1001\", \"1002\", \"1003\", \"1004\"],\n",
    "    \"product_id\": [\"004\", \"001\", \"001\", \"007\"],\n",
    "    \"quantity\": [2, 1, 1, 3],\n",
    "}\n",
    "\n",
    "orders_day_2_dict = {\n",
    "    \"order_id\": [\"1005\", \"1006\", \"1007\"],\n",
    "    \"product_id\": [\"010\", \"001\", \"007\"],\n",
    "    \"quantity\": [2, 1, 1],\n",
    "}\n",
    "\n",
    "products = pd.DataFrame(products_dict)\n",
    "orders_day_1 = pd.DataFrame(orders_day_1_dict)\n",
    "orders_day_2 = pd.DataFrame(orders_day_2_dict)\n",
    "\n",
    "orders = pd.concat([orders_day_1, orders_day_2], axis=0)\n",
    "result = pd.merge(orders, products, on=\"product_id\")\n",
    "\n",
    "result[\"total\"] = result[\"quantity\"] * result[\"price\"]\n",
    "print(result)"
   ]
  },
  {
   "cell_type": "code",
   "execution_count": 37,
   "metadata": {},
   "outputs": [],
   "source": [
    "products_dict = {\n",
    "    \"product_id\": [\"001\", \"004\", \"007\", \"010\"],\n",
    "    \"name\": [\"mobile phone\", \"laptop\", \"mouse\", \"tablet\"],\n",
    "    \"price\": [1490.0, 3400.0, 59.99, 999.00],\n",
    "}\n",
    "\n",
    "orders_day_1_dict = {\n",
    "    \"order_id\": [\"1001\", \"1002\", \"1003\", \"1004\"],\n",
    "    \"product_id\": [\"004\", \"001\", \"001\", \"007\"],\n",
    "    \"quantity\": [2, 1, 1, 3],\n",
    "}\n",
    "\n",
    "orders_day_2_dict = {\n",
    "    \"order_id\": [\"1005\", \"1006\", \"1007\"],\n",
    "    \"product_id\": [\"010\", \"001\", \"007\"],\n",
    "    \"quantity\": [2, 1, 1],\n",
    "}\n",
    "\n",
    "products = pd.DataFrame(products_dict)\n",
    "orders_day_1 = pd.DataFrame(orders_day_1_dict)\n",
    "orders_day_2 = pd.DataFrame(orders_day_2_dict)\n",
    "\n",
    "orders = pd.concat([orders_day_1, orders_day_2], axis=0)\n",
    "result = pd.merge(orders, products, on=\"product_id\")\n",
    "\n",
    "result[\"total\"] = result[\"quantity\"] * result[\"price\"]\n",
    "result.to_csv(\"result.csv\", index=False)\n",
    "result.to_html(\"result.html\")\n",
    "result.to_json(\"result.json\", indent=4)"
   ]
  }
 ],
 "metadata": {
  "kernelspec": {
   "display_name": ".venv",
   "language": "python",
   "name": "python3"
  },
  "language_info": {
   "codemirror_mode": {
    "name": "ipython",
    "version": 3
   },
   "file_extension": ".py",
   "mimetype": "text/x-python",
   "name": "python",
   "nbconvert_exporter": "python",
   "pygments_lexer": "ipython3",
   "version": "3.11.1"
  }
 },
 "nbformat": 4,
 "nbformat_minor": 2
}
