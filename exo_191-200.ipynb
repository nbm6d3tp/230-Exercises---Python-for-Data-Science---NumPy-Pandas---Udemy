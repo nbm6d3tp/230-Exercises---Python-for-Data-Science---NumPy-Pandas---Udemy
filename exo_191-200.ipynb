{
 "cells": [
  {
   "cell_type": "code",
   "execution_count": 1,
   "metadata": {},
   "outputs": [],
   "source": [
    "import numpy as np\n",
    "import pandas as pd"
   ]
  },
  {
   "cell_type": "code",
   "execution_count": 5,
   "metadata": {},
   "outputs": [
    {
     "data": {
      "text/html": [
       "<div>\n",
       "<style scoped>\n",
       "    .dataframe tbody tr th:only-of-type {\n",
       "        vertical-align: middle;\n",
       "    }\n",
       "\n",
       "    .dataframe tbody tr th {\n",
       "        vertical-align: top;\n",
       "    }\n",
       "\n",
       "    .dataframe thead th {\n",
       "        text-align: right;\n",
       "    }\n",
       "</style>\n",
       "<table border=\"1\" class=\"dataframe\">\n",
       "  <thead>\n",
       "    <tr style=\"text-align: right;\">\n",
       "      <th></th>\n",
       "      <th>sex</th>\n",
       "      <th>smoker</th>\n",
       "      <th>region</th>\n",
       "    </tr>\n",
       "  </thead>\n",
       "  <tbody>\n",
       "    <tr>\n",
       "      <th>count</th>\n",
       "      <td>1338</td>\n",
       "      <td>1338</td>\n",
       "      <td>1338</td>\n",
       "    </tr>\n",
       "    <tr>\n",
       "      <th>unique</th>\n",
       "      <td>2</td>\n",
       "      <td>2</td>\n",
       "      <td>4</td>\n",
       "    </tr>\n",
       "    <tr>\n",
       "      <th>top</th>\n",
       "      <td>male</td>\n",
       "      <td>no</td>\n",
       "      <td>southeast</td>\n",
       "    </tr>\n",
       "    <tr>\n",
       "      <th>freq</th>\n",
       "      <td>676</td>\n",
       "      <td>1064</td>\n",
       "      <td>364</td>\n",
       "    </tr>\n",
       "  </tbody>\n",
       "</table>\n",
       "</div>"
      ],
      "text/plain": [
       "         sex smoker     region\n",
       "count   1338   1338       1338\n",
       "unique     2      2          4\n",
       "top     male     no  southeast\n",
       "freq     676   1064        364"
      ]
     },
     "execution_count": 5,
     "metadata": {},
     "output_type": "execute_result"
    }
   ],
   "source": [
    "url = \"https://storage.googleapis.com/esmartdata-courses-files/ml-course/insurance.csv\"\n",
    "df = pd.read_csv(url)\n",
    "df[[\"sex\", \"smoker\", \"region\"]] = df[[\"sex\", \"smoker\", \"region\"]].astype((\"category\"))\n",
    "\n",
    "df_cat = df.select_dtypes(\"category\").copy()\n",
    "\n",
    "df_cat.describe()"
   ]
  },
  {
   "cell_type": "code",
   "execution_count": 6,
   "metadata": {},
   "outputs": [
    {
     "data": {
      "text/html": [
       "<div>\n",
       "<style scoped>\n",
       "    .dataframe tbody tr th:only-of-type {\n",
       "        vertical-align: middle;\n",
       "    }\n",
       "\n",
       "    .dataframe tbody tr th {\n",
       "        vertical-align: top;\n",
       "    }\n",
       "\n",
       "    .dataframe thead th {\n",
       "        text-align: right;\n",
       "    }\n",
       "</style>\n",
       "<table border=\"1\" class=\"dataframe\">\n",
       "  <thead>\n",
       "    <tr style=\"text-align: right;\">\n",
       "      <th></th>\n",
       "      <th>age</th>\n",
       "      <th>bmi</th>\n",
       "      <th>children</th>\n",
       "      <th>charges</th>\n",
       "    </tr>\n",
       "  </thead>\n",
       "  <tbody>\n",
       "    <tr>\n",
       "      <th>count</th>\n",
       "      <td>1338.000000</td>\n",
       "      <td>1338.000000</td>\n",
       "      <td>1338.000000</td>\n",
       "      <td>1338.000000</td>\n",
       "    </tr>\n",
       "    <tr>\n",
       "      <th>mean</th>\n",
       "      <td>39.207025</td>\n",
       "      <td>30.663397</td>\n",
       "      <td>1.094918</td>\n",
       "      <td>13270.422265</td>\n",
       "    </tr>\n",
       "    <tr>\n",
       "      <th>std</th>\n",
       "      <td>14.049960</td>\n",
       "      <td>6.098187</td>\n",
       "      <td>1.205493</td>\n",
       "      <td>12110.011237</td>\n",
       "    </tr>\n",
       "    <tr>\n",
       "      <th>min</th>\n",
       "      <td>18.000000</td>\n",
       "      <td>15.960000</td>\n",
       "      <td>0.000000</td>\n",
       "      <td>1121.873900</td>\n",
       "    </tr>\n",
       "    <tr>\n",
       "      <th>25%</th>\n",
       "      <td>27.000000</td>\n",
       "      <td>26.296250</td>\n",
       "      <td>0.000000</td>\n",
       "      <td>4740.287150</td>\n",
       "    </tr>\n",
       "    <tr>\n",
       "      <th>50%</th>\n",
       "      <td>39.000000</td>\n",
       "      <td>30.400000</td>\n",
       "      <td>1.000000</td>\n",
       "      <td>9382.033000</td>\n",
       "    </tr>\n",
       "    <tr>\n",
       "      <th>75%</th>\n",
       "      <td>51.000000</td>\n",
       "      <td>34.693750</td>\n",
       "      <td>2.000000</td>\n",
       "      <td>16639.912515</td>\n",
       "    </tr>\n",
       "    <tr>\n",
       "      <th>max</th>\n",
       "      <td>64.000000</td>\n",
       "      <td>53.130000</td>\n",
       "      <td>5.000000</td>\n",
       "      <td>63770.428010</td>\n",
       "    </tr>\n",
       "  </tbody>\n",
       "</table>\n",
       "</div>"
      ],
      "text/plain": [
       "               age          bmi     children       charges\n",
       "count  1338.000000  1338.000000  1338.000000   1338.000000\n",
       "mean     39.207025    30.663397     1.094918  13270.422265\n",
       "std      14.049960     6.098187     1.205493  12110.011237\n",
       "min      18.000000    15.960000     0.000000   1121.873900\n",
       "25%      27.000000    26.296250     0.000000   4740.287150\n",
       "50%      39.000000    30.400000     1.000000   9382.033000\n",
       "75%      51.000000    34.693750     2.000000  16639.912515\n",
       "max      64.000000    53.130000     5.000000  63770.428010"
      ]
     },
     "execution_count": 6,
     "metadata": {},
     "output_type": "execute_result"
    }
   ],
   "source": [
    "url = \"https://storage.googleapis.com/esmartdata-courses-files/ml-course/insurance.csv\"\n",
    "df = pd.read_csv(url)\n",
    "df[[\"sex\", \"smoker\", \"region\"]] = df[[\"sex\", \"smoker\", \"region\"]].astype((\"category\"))\n",
    "\n",
    "df_num = df.select_dtypes([\"number\"]).copy()\n",
    "\n",
    "df_num.describe()"
   ]
  },
  {
   "cell_type": "code",
   "execution_count": 8,
   "metadata": {},
   "outputs": [
    {
     "data": {
      "text/html": [
       "<div>\n",
       "<style scoped>\n",
       "    .dataframe tbody tr th:only-of-type {\n",
       "        vertical-align: middle;\n",
       "    }\n",
       "\n",
       "    .dataframe tbody tr th {\n",
       "        vertical-align: top;\n",
       "    }\n",
       "\n",
       "    .dataframe thead th {\n",
       "        text-align: right;\n",
       "    }\n",
       "</style>\n",
       "<table border=\"1\" class=\"dataframe\">\n",
       "  <thead>\n",
       "    <tr style=\"text-align: right;\">\n",
       "      <th></th>\n",
       "      <th>mean</th>\n",
       "      <th>std</th>\n",
       "    </tr>\n",
       "  </thead>\n",
       "  <tbody>\n",
       "    <tr>\n",
       "      <th>age</th>\n",
       "      <td>39.207025</td>\n",
       "      <td>14.049960</td>\n",
       "    </tr>\n",
       "    <tr>\n",
       "      <th>bmi</th>\n",
       "      <td>30.663397</td>\n",
       "      <td>6.098187</td>\n",
       "    </tr>\n",
       "    <tr>\n",
       "      <th>children</th>\n",
       "      <td>1.094918</td>\n",
       "      <td>1.205493</td>\n",
       "    </tr>\n",
       "    <tr>\n",
       "      <th>charges</th>\n",
       "      <td>13270.422265</td>\n",
       "      <td>12110.011237</td>\n",
       "    </tr>\n",
       "  </tbody>\n",
       "</table>\n",
       "</div>"
      ],
      "text/plain": [
       "                  mean           std\n",
       "age          39.207025     14.049960\n",
       "bmi          30.663397      6.098187\n",
       "children      1.094918      1.205493\n",
       "charges   13270.422265  12110.011237"
      ]
     },
     "execution_count": 8,
     "metadata": {},
     "output_type": "execute_result"
    }
   ],
   "source": [
    "url = \"https://storage.googleapis.com/esmartdata-courses-files/ml-course/insurance.csv\"\n",
    "df = pd.read_csv(url)\n",
    "df[[\"sex\", \"smoker\", \"region\"]] = df[[\"sex\", \"smoker\", \"region\"]].astype((\"category\"))\n",
    "\n",
    "df_num = df.select_dtypes([\"number\"]).copy()\n",
    "\n",
    "df_num.describe().transpose()[[\"mean\", \"std\"]]"
   ]
  },
  {
   "cell_type": "code",
   "execution_count": 9,
   "metadata": {},
   "outputs": [
    {
     "name": "stdout",
     "output_type": "stream",
     "text": [
      "age         0\n",
      "sex         0\n",
      "bmi         0\n",
      "children    0\n",
      "smoker      0\n",
      "region      0\n",
      "charges     0\n",
      "dtype: int64\n"
     ]
    }
   ],
   "source": [
    "url = \"https://storage.googleapis.com/esmartdata-courses-files/ml-course/insurance.csv\"\n",
    "df = pd.read_csv(url)\n",
    "\n",
    "print(df.isnull().sum())"
   ]
  },
  {
   "cell_type": "code",
   "execution_count": 16,
   "metadata": {},
   "outputs": [
    {
     "name": "stdout",
     "output_type": "stream",
     "text": [
      "      age     bmi  children      charges  sex_male  smoker_yes  \\\n",
      "0      19  27.900         0  16884.92400     False        True   \n",
      "1      18  33.770         1   1725.55230      True       False   \n",
      "2      28  33.000         3   4449.46200      True       False   \n",
      "3      33  22.705         0  21984.47061      True       False   \n",
      "4      32  28.880         0   3866.85520      True       False   \n",
      "...   ...     ...       ...          ...       ...         ...   \n",
      "1333   50  30.970         3  10600.54830      True       False   \n",
      "1334   18  31.920         0   2205.98080     False       False   \n",
      "1335   18  36.850         0   1629.83350     False       False   \n",
      "1336   21  25.800         0   2007.94500     False       False   \n",
      "1337   61  29.070         0  29141.36030     False        True   \n",
      "\n",
      "      region_northwest  region_southeast  region_southwest  \n",
      "0                False             False              True  \n",
      "1                False              True             False  \n",
      "2                False              True             False  \n",
      "3                 True             False             False  \n",
      "4                 True             False             False  \n",
      "...                ...               ...               ...  \n",
      "1333              True             False             False  \n",
      "1334             False             False             False  \n",
      "1335             False              True             False  \n",
      "1336             False             False              True  \n",
      "1337              True             False             False  \n",
      "\n",
      "[1338 rows x 9 columns]\n"
     ]
    }
   ],
   "source": [
    "url = \"https://storage.googleapis.com/esmartdata-courses-files/ml-course/insurance.csv\"\n",
    "df = pd.read_csv(url)\n",
    "df[[\"sex\", \"smoker\", \"region\"]] = df[[\"sex\", \"smoker\", \"region\"]].astype((\"category\"))\n",
    "df_dummies = pd.get_dummies(df, drop_first=True)\n",
    "print(df_dummies)"
   ]
  },
  {
   "cell_type": "code",
   "execution_count": 17,
   "metadata": {},
   "outputs": [
    {
     "name": "stdout",
     "output_type": "stream",
     "text": [
      "                       age       bmi  children   charges  sex_male  \\\n",
      "age               1.000000  0.109272  0.042469  0.299008 -0.020856   \n",
      "bmi               0.109272  1.000000  0.012759  0.198341  0.046371   \n",
      "children          0.042469  0.012759  1.000000  0.067998  0.017163   \n",
      "charges           0.299008  0.198341  0.067998  1.000000  0.057292   \n",
      "sex_male         -0.020856  0.046371  0.017163  0.057292  1.000000   \n",
      "smoker_yes       -0.025019  0.003750  0.007673  0.787251  0.076185   \n",
      "region_northwest -0.000407 -0.135996  0.024806 -0.039905 -0.011156   \n",
      "region_southeast -0.011642  0.270025 -0.023066  0.073982  0.017117   \n",
      "region_southwest  0.010016 -0.006205  0.021914 -0.043210 -0.004184   \n",
      "\n",
      "                  smoker_yes  region_northwest  region_southeast  \\\n",
      "age                -0.025019         -0.000407         -0.011642   \n",
      "bmi                 0.003750         -0.135996          0.270025   \n",
      "children            0.007673          0.024806         -0.023066   \n",
      "charges             0.787251         -0.039905          0.073982   \n",
      "sex_male            0.076185         -0.011156          0.017117   \n",
      "smoker_yes          1.000000         -0.036945          0.068498   \n",
      "region_northwest   -0.036945          1.000000         -0.346265   \n",
      "region_southeast    0.068498         -0.346265          1.000000   \n",
      "region_southwest   -0.036945         -0.320829         -0.346265   \n",
      "\n",
      "                  region_southwest  \n",
      "age                       0.010016  \n",
      "bmi                      -0.006205  \n",
      "children                  0.021914  \n",
      "charges                  -0.043210  \n",
      "sex_male                 -0.004184  \n",
      "smoker_yes               -0.036945  \n",
      "region_northwest         -0.320829  \n",
      "region_southeast         -0.346265  \n",
      "region_southwest          1.000000  \n"
     ]
    }
   ],
   "source": [
    "url = \"https://storage.googleapis.com/esmartdata-courses-files/ml-course/insurance.csv\"\n",
    "df = pd.read_csv(url)\n",
    "df[[\"sex\", \"smoker\", \"region\"]] = df[[\"sex\", \"smoker\", \"region\"]].astype((\"category\"))\n",
    "df_dummies = pd.get_dummies(df, drop_first=True)\n",
    "corr = df_dummies.corr()\n",
    "print(corr)"
   ]
  },
  {
   "cell_type": "code",
   "execution_count": 26,
   "metadata": {},
   "outputs": [
    {
     "name": "stdout",
     "output_type": "stream",
     "text": [
      "                   charges\n",
      "charges           1.000000\n",
      "smoker_yes        0.787251\n",
      "age               0.299008\n",
      "bmi               0.198341\n",
      "region_southeast  0.073982\n",
      "children          0.067998\n",
      "sex_male          0.057292\n",
      "region_northwest -0.039905\n",
      "region_southwest -0.043210\n"
     ]
    }
   ],
   "source": [
    "url = \"https://storage.googleapis.com/esmartdata-courses-files/ml-course/insurance.csv\"\n",
    "df = pd.read_csv(url)\n",
    "df[[\"sex\", \"smoker\", \"region\"]] = df[[\"sex\", \"smoker\", \"region\"]].astype((\"category\"))\n",
    "df_dummies = pd.get_dummies(df, drop_first=True)\n",
    "corr = df_dummies.corr()\n",
    "print(corr.loc[:, [\"charges\"]].sort_values(by=\"charges\", ascending=False))"
   ]
  },
  {
   "cell_type": "code",
   "execution_count": 35,
   "metadata": {},
   "outputs": [
    {
     "name": "stdout",
     "output_type": "stream",
     "text": [
      "   age     bmi  children  sex_male  smoker_yes  region_northwest  \\\n",
      "0   19  27.900         0     False        True             False   \n",
      "1   18  33.770         1      True       False             False   \n",
      "2   28  33.000         3      True       False             False   \n",
      "3   33  22.705         0      True       False              True   \n",
      "4   32  28.880         0      True       False              True   \n",
      "\n",
      "   region_southeast  region_southwest  \n",
      "0             False              True  \n",
      "1              True             False  \n",
      "2              True             False  \n",
      "3             False             False  \n",
      "4             False             False  \n",
      "\n",
      "0    16884.92400\n",
      "1     1725.55230\n",
      "2     4449.46200\n",
      "3    21984.47061\n",
      "4     3866.85520\n",
      "Name: charges, dtype: float64\n"
     ]
    }
   ],
   "source": [
    "url = \"https://storage.googleapis.com/esmartdata-courses-files/ml-course/insurance.csv\"\n",
    "df = pd.read_csv(url)\n",
    "df[[\"sex\", \"smoker\", \"region\"]] = df[[\"sex\", \"smoker\", \"region\"]].astype((\"category\"))\n",
    "df_dummies = pd.get_dummies(df, drop_first=True)\n",
    "data = df_dummies.copy()\n",
    "target = data.pop(\"charges\")\n",
    "print(data.head())\n",
    "print()\n",
    "print(target.head())"
   ]
  },
  {
   "cell_type": "code",
   "execution_count": 36,
   "metadata": {},
   "outputs": [
    {
     "name": "stdout",
     "output_type": "stream",
     "text": [
      "  size  color  gender  price  weight bought\n",
      "0   XL    red  female  199.0     500    yes\n",
      "1    L  green    male   89.0     450     no\n",
      "2    M   blue    male   99.0     300    yes\n",
      "3    L  green  female  129.0     380     no\n",
      "4    M    red  female   79.0     410    yes\n"
     ]
    }
   ],
   "source": [
    "data = {\n",
    "    \"size\": [\"XL\", \"L\", \"M\", \"L\", \"M\"],\n",
    "    \"color\": [\"red\", \"green\", \"blue\", \"green\", \"red\"],\n",
    "    \"gender\": [\"female\", \"male\", \"male\", \"female\", \"female\"],\n",
    "    \"price\": [199.0, 89.0, 99.0, 129.0, 79.0],\n",
    "    \"weight\": [500, 450, 300, 380, 410],\n",
    "    \"bought\": [\"yes\", \"no\", \"yes\", \"no\", \"yes\"],\n",
    "}\n",
    "\n",
    "df = pd.DataFrame(data)\n",
    "print(df)"
   ]
  },
  {
   "cell_type": "code",
   "execution_count": 38,
   "metadata": {},
   "outputs": [
    {
     "name": "stdout",
     "output_type": "stream",
     "text": [
      "<class 'pandas.core.frame.DataFrame'>\n",
      "RangeIndex: 5 entries, 0 to 4\n",
      "Data columns (total 6 columns):\n",
      " #   Column  Non-Null Count  Dtype   \n",
      "---  ------  --------------  -----   \n",
      " 0   size    5 non-null      category\n",
      " 1   color   5 non-null      category\n",
      " 2   gender  5 non-null      category\n",
      " 3   price   5 non-null      float64 \n",
      " 4   weight  5 non-null      float64 \n",
      " 5   bought  5 non-null      category\n",
      "dtypes: category(4), float64(2)\n",
      "memory usage: 740.0 bytes\n"
     ]
    }
   ],
   "source": [
    "data = {\n",
    "    \"size\": [\"XL\", \"L\", \"M\", \"L\", \"M\"],\n",
    "    \"color\": [\"red\", \"green\", \"blue\", \"green\", \"red\"],\n",
    "    \"gender\": [\"female\", \"male\", \"male\", \"female\", \"female\"],\n",
    "    \"price\": [199.0, 89.0, 99.0, 129.0, 79.0],\n",
    "    \"weight\": [500, 450, 300, 380, 410],\n",
    "    \"bought\": [\"yes\", \"no\", \"yes\", \"no\", \"yes\"],\n",
    "}\n",
    "\n",
    "df = pd.DataFrame(data)\n",
    "\n",
    "df[[\"size\", \"color\", \"gender\", \"bought\"]] = df[\n",
    "    [\"size\", \"color\", \"gender\", \"bought\"]\n",
    "].astype(\"category\")\n",
    "df[\"weight\"] = df[\"weight\"].astype(\"float\")\n",
    "\n",
    "df.info()"
   ]
  }
 ],
 "metadata": {
  "kernelspec": {
   "display_name": ".venv",
   "language": "python",
   "name": "python3"
  },
  "language_info": {
   "codemirror_mode": {
    "name": "ipython",
    "version": 3
   },
   "file_extension": ".py",
   "mimetype": "text/x-python",
   "name": "python",
   "nbconvert_exporter": "python",
   "pygments_lexer": "ipython3",
   "version": "3.11.1"
  }
 },
 "nbformat": 4,
 "nbformat_minor": 2
}
