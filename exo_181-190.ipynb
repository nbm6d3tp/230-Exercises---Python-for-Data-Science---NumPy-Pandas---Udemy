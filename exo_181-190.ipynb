{
 "cells": [
  {
   "cell_type": "code",
   "execution_count": 2,
   "metadata": {},
   "outputs": [],
   "source": [
    "import numpy as np\n",
    "import pandas as pd"
   ]
  },
  {
   "cell_type": "code",
   "execution_count": 4,
   "metadata": {},
   "outputs": [
    {
     "name": "stdout",
     "output_type": "stream",
     "text": [
      "                timestamp  cnt   t1   t2    hum  wind_speed  weather_code  \\\n",
      "0     2015-01-04 00:00:00  182  3.0  2.0   93.0         6.0           3.0   \n",
      "1     2015-01-04 01:00:00  138  3.0  2.5   93.0         5.0           1.0   \n",
      "2     2015-01-04 02:00:00  134  2.5  2.5   96.5         0.0           1.0   \n",
      "3     2015-01-04 03:00:00   72  2.0  2.0  100.0         0.0           1.0   \n",
      "4     2015-01-04 04:00:00   47  2.0  0.0   93.0         6.5           1.0   \n",
      "...                   ...  ...  ...  ...    ...         ...           ...   \n",
      "17312 2016-12-30 18:00:00  674  4.0  2.0  100.0         9.0           4.0   \n",
      "17319 2016-12-31 01:00:00  123  5.0  3.5  100.0         7.5           4.0   \n",
      "17320 2016-12-31 02:00:00   85  6.0  4.0   93.0         8.0           4.0   \n",
      "17370 2017-01-02 04:00:00   18  3.0  0.5   93.0         8.0           2.0   \n",
      "17371 2017-01-02 05:00:00   35  3.0  2.5   93.0         5.0           2.0   \n",
      "\n",
      "       is_holiday  is_weekend  season  hour  month  \n",
      "0             0.0         1.0     3.0     0      1  \n",
      "1             0.0         1.0     3.0     1      1  \n",
      "2             0.0         1.0     3.0     2      1  \n",
      "3             0.0         1.0     3.0     3      1  \n",
      "4             0.0         1.0     3.0     4      1  \n",
      "...           ...         ...     ...   ...    ...  \n",
      "17312         0.0         0.0     3.0    18     12  \n",
      "17319         0.0         1.0     3.0     1     12  \n",
      "17320         0.0         1.0     3.0     2     12  \n",
      "17370         1.0         0.0     3.0     4      1  \n",
      "17371         1.0         0.0     3.0     5      1  \n",
      "\n",
      "[692 rows x 12 columns]\n"
     ]
    }
   ],
   "source": [
    "url = \"https://storage.googleapis.com/esmartdata-courses-files/ds-bootcamp/london_bike.csv\"\n",
    "df = pd.read_csv(url)\n",
    "df[\"timestamp\"] = pd.to_datetime(df[\"timestamp\"])\n",
    "df[\"hour\"] = df[\"timestamp\"].dt.hour\n",
    "df[\"month\"] = df[\"timestamp\"].dt.month\n",
    "\n",
    "# print(df[(df[\"wind_speed\"] < 10.0) & (df[\"hum\"] > 90.0)])\n",
    "print(df.query(\"wind_speed < 10.0 and hum > 90.0\"))"
   ]
  },
  {
   "cell_type": "code",
   "execution_count": 5,
   "metadata": {},
   "outputs": [
    {
     "name": "stdout",
     "output_type": "stream",
     "text": [
      "                timestamp  cnt   t1   t2    hum  wind_speed  weather_code  \\\n",
      "0     2015-01-04 00:00:00  182  3.0  2.0   93.0         6.0           3.0   \n",
      "1     2015-01-04 01:00:00  138  3.0  2.5   93.0         5.0           1.0   \n",
      "2     2015-01-04 02:00:00  134  2.5  2.5   96.5         0.0           1.0   \n",
      "3     2015-01-04 03:00:00   72  2.0  2.0  100.0         0.0           1.0   \n",
      "4     2015-01-04 04:00:00   47  2.0  0.0   93.0         6.5           1.0   \n",
      "...                   ...  ...  ...  ...    ...         ...           ...   \n",
      "17361 2017-01-01 19:00:00  136  5.0  2.0   93.0        15.0           7.0   \n",
      "17362 2017-01-01 20:00:00  116  5.0  2.0   93.0        14.0           7.0   \n",
      "17363 2017-01-01 21:00:00  110  5.0  2.0   93.0        14.0          26.0   \n",
      "17364 2017-01-01 22:00:00  119  5.0  2.0   93.0        12.0           3.0   \n",
      "17365 2017-01-01 23:00:00   89  5.0  2.5   90.0        10.0           1.0   \n",
      "\n",
      "       is_holiday  is_weekend  season  hour  month  \n",
      "0             0.0         1.0     3.0     0      1  \n",
      "1             0.0         1.0     3.0     1      1  \n",
      "2             0.0         1.0     3.0     2      1  \n",
      "3             0.0         1.0     3.0     3      1  \n",
      "4             0.0         1.0     3.0     4      1  \n",
      "...           ...         ...     ...   ...    ...  \n",
      "17361         0.0         1.0     3.0    19      1  \n",
      "17362         0.0         1.0     3.0    20      1  \n",
      "17363         0.0         1.0     3.0    21      1  \n",
      "17364         0.0         1.0     3.0    22      1  \n",
      "17365         0.0         1.0     3.0    23      1  \n",
      "\n",
      "[4970 rows x 12 columns]\n"
     ]
    }
   ],
   "source": [
    "url = \"https://storage.googleapis.com/esmartdata-courses-files/ds-bootcamp/london_bike.csv\"\n",
    "df = pd.read_csv(url)\n",
    "df[\"timestamp\"] = pd.to_datetime(df[\"timestamp\"])\n",
    "df[\"hour\"] = df[\"timestamp\"].dt.hour\n",
    "df[\"month\"] = df[\"timestamp\"].dt.month\n",
    "\n",
    "df_weekend = df[df[\"is_weekend\"] == 1.0].copy(deep=True)\n",
    "print(df_weekend)"
   ]
  }
 ],
 "metadata": {
  "kernelspec": {
   "display_name": ".venv",
   "language": "python",
   "name": "python3"
  },
  "language_info": {
   "codemirror_mode": {
    "name": "ipython",
    "version": 3
   },
   "file_extension": ".py",
   "mimetype": "text/x-python",
   "name": "python",
   "nbconvert_exporter": "python",
   "pygments_lexer": "ipython3",
   "version": "3.11.1"
  }
 },
 "nbformat": 4,
 "nbformat_minor": 2
}
