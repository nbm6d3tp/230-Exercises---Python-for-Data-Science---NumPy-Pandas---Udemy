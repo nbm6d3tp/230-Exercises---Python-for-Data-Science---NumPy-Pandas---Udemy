{
 "cells": [
  {
   "cell_type": "code",
   "execution_count": 1,
   "metadata": {},
   "outputs": [],
   "source": [
    "import numpy as np\n",
    "import pandas as pd"
   ]
  },
  {
   "cell_type": "code",
   "execution_count": 2,
   "metadata": {},
   "outputs": [
    {
     "name": "stdout",
     "output_type": "stream",
     "text": [
      "                timestamp  cnt   t1   t2    hum  wind_speed  weather_code  \\\n",
      "0     2015-01-04 00:00:00  182  3.0  2.0   93.0         6.0           3.0   \n",
      "1     2015-01-04 01:00:00  138  3.0  2.5   93.0         5.0           1.0   \n",
      "2     2015-01-04 02:00:00  134  2.5  2.5   96.5         0.0           1.0   \n",
      "3     2015-01-04 03:00:00   72  2.0  2.0  100.0         0.0           1.0   \n",
      "4     2015-01-04 04:00:00   47  2.0  0.0   93.0         6.5           1.0   \n",
      "...                   ...  ...  ...  ...    ...         ...           ...   \n",
      "17312 2016-12-30 18:00:00  674  4.0  2.0  100.0         9.0           4.0   \n",
      "17319 2016-12-31 01:00:00  123  5.0  3.5  100.0         7.5           4.0   \n",
      "17320 2016-12-31 02:00:00   85  6.0  4.0   93.0         8.0           4.0   \n",
      "17370 2017-01-02 04:00:00   18  3.0  0.5   93.0         8.0           2.0   \n",
      "17371 2017-01-02 05:00:00   35  3.0  2.5   93.0         5.0           2.0   \n",
      "\n",
      "       is_holiday  is_weekend  season  hour  month  \n",
      "0             0.0         1.0     3.0     0      1  \n",
      "1             0.0         1.0     3.0     1      1  \n",
      "2             0.0         1.0     3.0     2      1  \n",
      "3             0.0         1.0     3.0     3      1  \n",
      "4             0.0         1.0     3.0     4      1  \n",
      "...           ...         ...     ...   ...    ...  \n",
      "17312         0.0         0.0     3.0    18     12  \n",
      "17319         0.0         1.0     3.0     1     12  \n",
      "17320         0.0         1.0     3.0     2     12  \n",
      "17370         1.0         0.0     3.0     4      1  \n",
      "17371         1.0         0.0     3.0     5      1  \n",
      "\n",
      "[692 rows x 12 columns]\n"
     ]
    }
   ],
   "source": [
    "url = \"https://storage.googleapis.com/esmartdata-courses-files/ds-bootcamp/london_bike.csv\"\n",
    "df = pd.read_csv(url)\n",
    "df[\"timestamp\"] = pd.to_datetime(df[\"timestamp\"])\n",
    "df[\"hour\"] = df[\"timestamp\"].dt.hour\n",
    "df[\"month\"] = df[\"timestamp\"].dt.month\n",
    "\n",
    "# print(df[(df[\"wind_speed\"] < 10.0) & (df[\"hum\"] > 90.0)])\n",
    "print(df.query(\"wind_speed < 10.0 and hum > 90.0\"))"
   ]
  },
  {
   "cell_type": "code",
   "execution_count": 3,
   "metadata": {},
   "outputs": [
    {
     "name": "stdout",
     "output_type": "stream",
     "text": [
      "                timestamp  cnt   t1   t2    hum  wind_speed  weather_code  \\\n",
      "0     2015-01-04 00:00:00  182  3.0  2.0   93.0         6.0           3.0   \n",
      "1     2015-01-04 01:00:00  138  3.0  2.5   93.0         5.0           1.0   \n",
      "2     2015-01-04 02:00:00  134  2.5  2.5   96.5         0.0           1.0   \n",
      "3     2015-01-04 03:00:00   72  2.0  2.0  100.0         0.0           1.0   \n",
      "4     2015-01-04 04:00:00   47  2.0  0.0   93.0         6.5           1.0   \n",
      "...                   ...  ...  ...  ...    ...         ...           ...   \n",
      "17361 2017-01-01 19:00:00  136  5.0  2.0   93.0        15.0           7.0   \n",
      "17362 2017-01-01 20:00:00  116  5.0  2.0   93.0        14.0           7.0   \n",
      "17363 2017-01-01 21:00:00  110  5.0  2.0   93.0        14.0          26.0   \n",
      "17364 2017-01-01 22:00:00  119  5.0  2.0   93.0        12.0           3.0   \n",
      "17365 2017-01-01 23:00:00   89  5.0  2.5   90.0        10.0           1.0   \n",
      "\n",
      "       is_holiday  is_weekend  season  hour  month  \n",
      "0             0.0         1.0     3.0     0      1  \n",
      "1             0.0         1.0     3.0     1      1  \n",
      "2             0.0         1.0     3.0     2      1  \n",
      "3             0.0         1.0     3.0     3      1  \n",
      "4             0.0         1.0     3.0     4      1  \n",
      "...           ...         ...     ...   ...    ...  \n",
      "17361         0.0         1.0     3.0    19      1  \n",
      "17362         0.0         1.0     3.0    20      1  \n",
      "17363         0.0         1.0     3.0    21      1  \n",
      "17364         0.0         1.0     3.0    22      1  \n",
      "17365         0.0         1.0     3.0    23      1  \n",
      "\n",
      "[4970 rows x 12 columns]\n"
     ]
    }
   ],
   "source": [
    "url = \"https://storage.googleapis.com/esmartdata-courses-files/ds-bootcamp/london_bike.csv\"\n",
    "df = pd.read_csv(url)\n",
    "df[\"timestamp\"] = pd.to_datetime(df[\"timestamp\"])\n",
    "df[\"hour\"] = df[\"timestamp\"].dt.hour\n",
    "df[\"month\"] = df[\"timestamp\"].dt.month\n",
    "\n",
    "df_weekend = df[df[\"is_weekend\"] == 1.0].copy(deep=True)\n",
    "print(df_weekend)"
   ]
  },
  {
   "cell_type": "code",
   "execution_count": 4,
   "metadata": {},
   "outputs": [],
   "source": [
    "df_weekend.to_csv(\"weekend.txt\", index=False)"
   ]
  },
  {
   "cell_type": "code",
   "execution_count": 5,
   "metadata": {},
   "outputs": [
    {
     "name": "stdout",
     "output_type": "stream",
     "text": [
      "   age     sex     bmi  children smoker     region      charges\n",
      "0   19  female  27.900         0    yes  southwest  16884.92400\n",
      "1   18    male  33.770         1     no  southeast   1725.55230\n",
      "2   28    male  33.000         3     no  southeast   4449.46200\n",
      "3   33    male  22.705         0     no  northwest  21984.47061\n",
      "4   32    male  28.880         0     no  northwest   3866.85520\n"
     ]
    }
   ],
   "source": [
    "url = \"https://storage.googleapis.com/esmartdata-courses-files/ml-course/insurance.csv\"\n",
    "df = pd.read_csv(url)\n",
    "print(df.head())"
   ]
  },
  {
   "cell_type": "code",
   "execution_count": 7,
   "metadata": {},
   "outputs": [
    {
     "name": "stdout",
     "output_type": "stream",
     "text": [
      "     age   sex    bmi  children smoker     region    charges\n",
      "581   19  male  30.59         0     no  northwest  1639.5631\n"
     ]
    }
   ],
   "source": [
    "url = \"https://storage.googleapis.com/esmartdata-courses-files/ml-course/insurance.csv\"\n",
    "df = pd.read_csv(url)\n",
    "print(df[df.duplicated()])"
   ]
  },
  {
   "cell_type": "code",
   "execution_count": 8,
   "metadata": {},
   "outputs": [
    {
     "name": "stdout",
     "output_type": "stream",
     "text": [
      "<class 'pandas.core.frame.DataFrame'>\n",
      "Index: 1337 entries, 0 to 1337\n",
      "Data columns (total 7 columns):\n",
      " #   Column    Non-Null Count  Dtype  \n",
      "---  ------    --------------  -----  \n",
      " 0   age       1337 non-null   int64  \n",
      " 1   sex       1337 non-null   object \n",
      " 2   bmi       1337 non-null   float64\n",
      " 3   children  1337 non-null   int64  \n",
      " 4   smoker    1337 non-null   object \n",
      " 5   region    1337 non-null   object \n",
      " 6   charges   1337 non-null   float64\n",
      "dtypes: float64(2), int64(2), object(3)\n",
      "memory usage: 83.6+ KB\n"
     ]
    }
   ],
   "source": [
    "url = \"https://storage.googleapis.com/esmartdata-courses-files/ml-course/insurance.csv\"\n",
    "df = pd.read_csv(url)\n",
    "df.drop_duplicates().info()"
   ]
  },
  {
   "cell_type": "code",
   "execution_count": 9,
   "metadata": {},
   "outputs": [
    {
     "name": "stdout",
     "output_type": "stream",
     "text": [
      "         sex smoker     region\n",
      "0     female    yes  southwest\n",
      "1       male     no  southeast\n",
      "2       male     no  southeast\n",
      "3       male     no  northwest\n",
      "4       male     no  northwest\n",
      "...      ...    ...        ...\n",
      "1333    male     no  northwest\n",
      "1334  female     no  northeast\n",
      "1335  female     no  southeast\n",
      "1336  female     no  southwest\n",
      "1337  female    yes  northwest\n",
      "\n",
      "[1338 rows x 3 columns]\n"
     ]
    }
   ],
   "source": [
    "url = \"https://storage.googleapis.com/esmartdata-courses-files/ml-course/insurance.csv\"\n",
    "df = pd.read_csv(url)\n",
    "\n",
    "print(df.select_dtypes(\"object\"))"
   ]
  },
  {
   "cell_type": "code",
   "execution_count": 10,
   "metadata": {},
   "outputs": [
    {
     "name": "stdout",
     "output_type": "stream",
     "text": [
      "<class 'pandas.core.frame.DataFrame'>\n",
      "RangeIndex: 1338 entries, 0 to 1337\n",
      "Data columns (total 7 columns):\n",
      " #   Column    Non-Null Count  Dtype   \n",
      "---  ------    --------------  -----   \n",
      " 0   age       1338 non-null   int64   \n",
      " 1   sex       1338 non-null   category\n",
      " 2   bmi       1338 non-null   float64 \n",
      " 3   children  1338 non-null   int64   \n",
      " 4   smoker    1338 non-null   category\n",
      " 5   region    1338 non-null   category\n",
      " 6   charges   1338 non-null   float64 \n",
      "dtypes: category(3), float64(2), int64(2)\n",
      "memory usage: 46.3 KB\n"
     ]
    }
   ],
   "source": [
    "url = \"https://storage.googleapis.com/esmartdata-courses-files/ml-course/insurance.csv\"\n",
    "df = pd.read_csv(url)\n",
    "df[[\"sex\", \"smoker\", \"region\"]] = df[[\"sex\", \"smoker\", \"region\"]].astype((\"category\"))\n",
    "df.info()"
   ]
  },
  {
   "cell_type": "code",
   "execution_count": 13,
   "metadata": {},
   "outputs": [
    {
     "name": "stdout",
     "output_type": "stream",
     "text": [
      "['age' 'bmi' 'children' 'charges']\n"
     ]
    }
   ],
   "source": [
    "url = \"https://storage.googleapis.com/esmartdata-courses-files/ml-course/insurance.csv\"\n",
    "df = pd.read_csv(url)\n",
    "\n",
    "print(df.select_dtypes([\"int\", \"float\"]).columns.values)"
   ]
  },
  {
   "cell_type": "code",
   "execution_count": 17,
   "metadata": {},
   "outputs": [
    {
     "name": "stdout",
     "output_type": "stream",
     "text": [
      "      sex smoker     region\n",
      "0  female    yes  southwest\n",
      "1    male     no  southeast\n",
      "2    male     no  southeast\n",
      "3    male     no  northwest\n",
      "4    male     no  northwest\n",
      "   age     bmi  children      charges\n",
      "0   19  27.900         0  16884.92400\n",
      "1   18  33.770         1   1725.55230\n",
      "2   28  33.000         3   4449.46200\n",
      "3   33  22.705         0  21984.47061\n",
      "4   32  28.880         0   3866.85520\n"
     ]
    }
   ],
   "source": [
    "url = \"https://storage.googleapis.com/esmartdata-courses-files/ml-course/insurance.csv\"\n",
    "df = pd.read_csv(url)\n",
    "df[[\"sex\", \"smoker\", \"region\"]] = df[[\"sex\", \"smoker\", \"region\"]].astype((\"category\"))\n",
    "\n",
    "df_cat = df.select_dtypes(\"category\").copy()\n",
    "df_num = df.select_dtypes([\"number\"]).copy()\n",
    "print(df_cat.head())\n",
    "print(df_num.head())"
   ]
  }
 ],
 "metadata": {
  "kernelspec": {
   "display_name": ".venv",
   "language": "python",
   "name": "python3"
  },
  "language_info": {
   "codemirror_mode": {
    "name": "ipython",
    "version": 3
   },
   "file_extension": ".py",
   "mimetype": "text/x-python",
   "name": "python",
   "nbconvert_exporter": "python",
   "pygments_lexer": "ipython3",
   "version": "3.11.1"
  }
 },
 "nbformat": 4,
 "nbformat_minor": 2
}
