{
 "cells": [
  {
   "cell_type": "code",
   "execution_count": 1,
   "metadata": {},
   "outputs": [],
   "source": [
    "import numpy as np"
   ]
  },
  {
   "cell_type": "code",
   "execution_count": 2,
   "metadata": {},
   "outputs": [
    {
     "name": "stdout",
     "output_type": "stream",
     "text": [
      "[[ 3.49  4.99  9.99]\n",
      " [ 1.99  4.99  9.99]\n",
      " [ 2.39  7.29 14.99]]\n",
      "[[ 1.99  2.39  4.99]\n",
      " [ 4.99  3.49  7.29]\n",
      " [14.99  9.99  9.99]]\n"
     ]
    }
   ],
   "source": [
    "A = np.array([[4.99, 3.49, 9.99], [1.99, 9.99, 4.99], [14.99, 2.39, 7.29]])\n",
    "\n",
    "print(np.sort(A, axis=1))\n",
    "print(np.sort(A, axis=0))"
   ]
  },
  {
   "cell_type": "code",
   "execution_count": 3,
   "metadata": {},
   "outputs": [
    {
     "name": "stdout",
     "output_type": "stream",
     "text": [
      "[ 9.99  9.99 14.99]\n"
     ]
    }
   ],
   "source": [
    "A = np.array([[4.99, 3.49, 9.99], [1.99, 9.99, 4.99], [14.99, 2.39, 7.29]])\n",
    "print(A[A > 8])"
   ]
  },
  {
   "cell_type": "code",
   "execution_count": 7,
   "metadata": {},
   "outputs": [
    {
     "name": "stdout",
     "output_type": "stream",
     "text": [
      "[[ 4.99  3.49  9.99]\n",
      " [ 1.99  9.99 10.  ]\n",
      " [10.    2.39  7.29]]\n"
     ]
    }
   ],
   "source": [
    "A = np.array(\n",
    "    [\n",
    "        [4.99, 3.49, 9.99],\n",
    "        [1.99, 9.99, 14.99],\n",
    "        [14.99, 2.39, 7.29],\n",
    "    ]\n",
    ")\n",
    "\n",
    "# A[A > 10] = 10.0\n",
    "print(np.where(A > 10, 10.0, A))"
   ]
  },
  {
   "cell_type": "code",
   "execution_count": 8,
   "metadata": {},
   "outputs": [
    {
     "name": "stdout",
     "output_type": "stream",
     "text": [
      "[ 4.99  3.49  9.99  1.99  9.99 14.99 14.99  2.39  7.29]\n"
     ]
    }
   ],
   "source": [
    "A = np.array(\n",
    "    [\n",
    "        [4.99, 3.49, 9.99],\n",
    "        [1.99, 9.99, 14.99],\n",
    "        [14.99, 2.39, 7.29],\n",
    "    ]\n",
    ")\n",
    "print(np.ravel(A))"
   ]
  },
  {
   "cell_type": "code",
   "execution_count": 9,
   "metadata": {},
   "outputs": [
    {
     "name": "stdout",
     "output_type": "stream",
     "text": [
      "[[0. 0. 0.]\n",
      " [0. 0. 0.]\n",
      " [0. 0. 0.]]\n"
     ]
    }
   ],
   "source": [
    "A = np.array(\n",
    "    [\n",
    "        [4.99, 3.49, 9.99],\n",
    "        [1.99, 9.99, 14.99],\n",
    "        [14.99, 2.39, 7.29],\n",
    "    ]\n",
    ")\n",
    "\n",
    "print(np.zeros_like(A))"
   ]
  },
  {
   "cell_type": "code",
   "execution_count": 10,
   "metadata": {},
   "outputs": [
    {
     "name": "stdout",
     "output_type": "stream",
     "text": [
      "[[9.99 9.99 9.99]\n",
      " [9.99 9.99 9.99]\n",
      " [9.99 9.99 9.99]]\n"
     ]
    }
   ],
   "source": [
    "A = np.array(\n",
    "    [\n",
    "        [4.99, 3.49, 9.99],\n",
    "        [1.99, 9.99, 14.99],\n",
    "        [14.99, 2.39, 7.29],\n",
    "    ]\n",
    ")\n",
    "\n",
    "print(np.full_like(A, 9.99))"
   ]
  },
  {
   "cell_type": "code",
   "execution_count": 11,
   "metadata": {},
   "outputs": [
    {
     "name": "stdout",
     "output_type": "stream",
     "text": [
      "[[1. 0. 0. 0. 0.]\n",
      " [1. 1. 0. 0. 0.]\n",
      " [1. 1. 1. 0. 0.]\n",
      " [1. 1. 1. 1. 0.]\n",
      " [1. 1. 1. 1. 1.]]\n"
     ]
    }
   ],
   "source": [
    "print(np.tri(5))"
   ]
  },
  {
   "cell_type": "code",
   "execution_count": 13,
   "metadata": {},
   "outputs": [
    {
     "name": "stdout",
     "output_type": "stream",
     "text": [
      "[[[4 5 4 2]\n",
      "  [6 3 5 1]\n",
      "  [5 2 1 2]]\n",
      "\n",
      " [[7 2 3 1]\n",
      "  [6 2 0 9]\n",
      "  [0 1 9 1]]]\n"
     ]
    }
   ],
   "source": [
    "# print(np.random.randint(0, 10, (2, 3, 4)))\n",
    "\n",
    "A = np.array(\n",
    "    [\n",
    "        [[4, 5, 4, 2], [6, 3, 5, 1], [5, 2, 1, 2]],\n",
    "        [[7, 2, 3, 1], [6, 2, 0, 9], [0, 1, 9, 1]],\n",
    "    ]\n",
    ")\n",
    "print(A)"
   ]
  },
  {
   "cell_type": "code",
   "execution_count": 14,
   "metadata": {},
   "outputs": [
    {
     "name": "stdout",
     "output_type": "stream",
     "text": [
      "[[ 69  83  56 ... 111 158 176]\n",
      " [ 90 127 147 ...  50 121 206]\n",
      " [ 36  44 102 ...  67 164 199]\n",
      " ...\n",
      " [ 77  80   2 ... 149 190  25]\n",
      " [ 86  41 194 ... 243  36  30]\n",
      " [113  84  34 ... 194 248 151]]\n"
     ]
    }
   ],
   "source": [
    "image = np.random.randint(0, 256, size=(200, 300), dtype=np.uint8)\n",
    "print(image)"
   ]
  },
  {
   "cell_type": "code",
   "execution_count": 15,
   "metadata": {},
   "outputs": [
    {
     "name": "stdout",
     "output_type": "stream",
     "text": [
      "[[  0   1   2 ... 252 253 253]\n",
      " [  0   1   1 ... 253 253 255]\n",
      " [  2   2   2 ... 250 255 255]\n",
      " ...\n",
      " [  0   3   3 ... 251 252 253]\n",
      " [  0   0   1 ... 253 253 254]\n",
      " [  0   0   0 ... 255 255 255]]\n"
     ]
    }
   ],
   "source": [
    "image = np.random.randint(low=0, high=256, size=(200, 300), dtype=np.uint8)\n",
    "image_sorted = np.sort(image, axis=1)\n",
    "print(image_sorted)"
   ]
  }
 ],
 "metadata": {
  "kernelspec": {
   "display_name": "Python 3",
   "language": "python",
   "name": "python3"
  },
  "language_info": {
   "codemirror_mode": {
    "name": "ipython",
    "version": 3
   },
   "file_extension": ".py",
   "mimetype": "text/x-python",
   "name": "python",
   "nbconvert_exporter": "python",
   "pygments_lexer": "ipython3",
   "version": "3.11.1"
  }
 },
 "nbformat": 4,
 "nbformat_minor": 2
}
