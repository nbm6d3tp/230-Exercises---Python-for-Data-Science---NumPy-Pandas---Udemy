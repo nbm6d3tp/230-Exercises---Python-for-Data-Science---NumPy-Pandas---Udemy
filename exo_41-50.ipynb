{
 "cells": [
  {
   "cell_type": "code",
   "execution_count": 1,
   "metadata": {},
   "outputs": [],
   "source": [
    "import numpy as np"
   ]
  },
  {
   "cell_type": "code",
   "execution_count": 7,
   "metadata": {},
   "outputs": [
    {
     "name": "stdout",
     "output_type": "stream",
     "text": [
      "[[[4 2 1]\n",
      "  [6 4 2]]]\n",
      "(1, 2, 3)\n"
     ]
    }
   ],
   "source": [
    "A = np.array([[4, 2, 1], [6, 4, 2]])\n",
    "expand_dims_A = np.expand_dims(A, axis=0)\n",
    "print(expand_dims_A)\n",
    "print(expand_dims_A.shape)"
   ]
  },
  {
   "cell_type": "code",
   "execution_count": 8,
   "metadata": {},
   "outputs": [
    {
     "name": "stdout",
     "output_type": "stream",
     "text": [
      "[[[102 220 225]\n",
      "  [ 95 179  61]\n",
      "  [234 203  92]\n",
      "  ...\n",
      "  [ 41  27  87]\n",
      "  [102 225  65]\n",
      "  [170   0 238]]\n",
      "\n",
      " [[169 170 213]\n",
      "  [159  44 250]\n",
      "  [224 206  61]\n",
      "  ...\n",
      "  [162 118  77]\n",
      "  [228  67  21]\n",
      "  [ 68  30  64]]\n",
      "\n",
      " [[237  26 118]\n",
      "  [ 62 157 198]\n",
      "  [  1 151  37]\n",
      "  ...\n",
      "  [218 189  51]\n",
      "  [193 250 243]\n",
      "  [235  34 180]]\n",
      "\n",
      " ...\n",
      "\n",
      " [[116 102 228]\n",
      "  [ 29  75  71]\n",
      "  [156 133  53]\n",
      "  ...\n",
      "  [ 93  45  68]\n",
      "  [124 238  76]\n",
      "  [184 185 202]]\n",
      "\n",
      " [[216 202 116]\n",
      "  [146 168 132]\n",
      "  [236  80  45]\n",
      "  ...\n",
      "  [169 145 212]\n",
      "  [123  50  70]\n",
      "  [ 11  43  62]]\n",
      "\n",
      " [[ 32  52  65]\n",
      "  [155   2  86]\n",
      "  [ 83 240  27]\n",
      "  ...\n",
      "  [ 30  57 175]\n",
      "  [ 72  83 171]\n",
      "  [ 40 114 195]]]\n"
     ]
    }
   ],
   "source": [
    "np.random.seed(42)\n",
    "image = np.random.randint(0, 256, size=(200, 300, 3), dtype=np.uint8)\n",
    "print(image)"
   ]
  },
  {
   "cell_type": "code",
   "execution_count": 9,
   "metadata": {},
   "outputs": [
    {
     "name": "stdout",
     "output_type": "stream",
     "text": [
      "[[[[145  30 244]\n",
      "   [107   6 122]\n",
      "   [201  42  86]\n",
      "   ...\n",
      "   [182 113 173]\n",
      "   [140 196 105]\n",
      "   [123  60 198]]\n",
      "\n",
      "  [[221  40 190]\n",
      "   [175  36 108]\n",
      "   [ 33   0 106]\n",
      "   ...\n",
      "   [ 75 169  71]\n",
      "   [218 180 159]\n",
      "   [ 88  16   4]]\n",
      "\n",
      "  [[141 115 148]\n",
      "   [211  17 146]\n",
      "   [118 201  37]\n",
      "   ...\n",
      "   [ 10 168 141]\n",
      "   [136 119 180]\n",
      "   [134 202  48]]\n",
      "\n",
      "  ...\n",
      "\n",
      "  [[105 148  18]\n",
      "   [178 143 146]\n",
      "   [249 136  32]\n",
      "   ...\n",
      "   [ 80  45 210]\n",
      "   [182 138  93]\n",
      "   [ 93 176 230]]\n",
      "\n",
      "  [[  8  92  85]\n",
      "   [105 188  47]\n",
      "   [188 219 100]\n",
      "   ...\n",
      "   [117 202 126]\n",
      "   [171 254  58]\n",
      "   [ 60 227 231]]\n",
      "\n",
      "  [[ 90  77 134]\n",
      "   [121 220 235]\n",
      "   [ 64 117 152]\n",
      "   ...\n",
      "   [ 60 122  47]\n",
      "   [110 218 233]\n",
      "   [233  85  89]]]]\n",
      "(1, 200, 300, 3)\n"
     ]
    }
   ],
   "source": [
    "image = np.random.randint(low=0, high=256, size=(200, 300, 3), dtype=np.uint8)\n",
    "image_extended = np.expand_dims(image, axis=0)\n",
    "print(image_extended)\n",
    "print(image_extended.shape)"
   ]
  },
  {
   "cell_type": "code",
   "execution_count": 10,
   "metadata": {},
   "outputs": [
    {
     "name": "stdout",
     "output_type": "stream",
     "text": [
      "[[[[ 41 115 118]\n",
      "   [ 84 233 122]\n",
      "   [  9 233 198]\n",
      "   ...\n",
      "   [ 37  99 209]\n",
      "   [211 120 126]\n",
      "   [ 59  79  35]]\n",
      "\n",
      "  [[136 156 232]\n",
      "   [107 217 177]\n",
      "   [129 224  85]\n",
      "   ...\n",
      "   [132  46 214]\n",
      "   [107 200 163]\n",
      "   [121  45 198]]\n",
      "\n",
      "  [[ 58  69 203]\n",
      "   [ 20  13 211]\n",
      "   [254 145  72]\n",
      "   ...\n",
      "   [  6 183 128]\n",
      "   [159 139  20]\n",
      "   [217 117  31]]\n",
      "\n",
      "  ...\n",
      "\n",
      "  [[178  96 176]\n",
      "   [178 151  78]\n",
      "   [175 147 177]\n",
      "   ...\n",
      "   [169 200  37]\n",
      "   [  9 171  29]\n",
      "   [145 143  28]]\n",
      "\n",
      "  [[189 185 126]\n",
      "   [ 59  76 205]\n",
      "   [  9 136  25]\n",
      "   ...\n",
      "   [ 62  31 235]\n",
      "   [104 133 186]\n",
      "   [154  50 165]]\n",
      "\n",
      "  [[157 209 251]\n",
      "   [181 230  48]\n",
      "   [ 21 223 136]\n",
      "   ...\n",
      "   [ 76  88 111]\n",
      "   [211 188  36]\n",
      "   [ 23 111 239]]]\n",
      "\n",
      "\n",
      " [[[ 81  84 180]\n",
      "   [239 195  87]\n",
      "   [ 10 247 246]\n",
      "   ...\n",
      "   [ 49 136  91]\n",
      "   [136 192 105]\n",
      "   [  4 122 161]]\n",
      "\n",
      "  [[121 115 195]\n",
      "   [ 18   3 184]\n",
      "   [253 169 244]\n",
      "   ...\n",
      "   [ 92 136 206]\n",
      "   [ 89  89 113]\n",
      "   [184   1  81]]\n",
      "\n",
      "  [[198 236  19]\n",
      "   [210  50 104]\n",
      "   [ 12  47 217]\n",
      "   ...\n",
      "   [205  24 154]\n",
      "   [241 227 167]\n",
      "   [208 134 145]]\n",
      "\n",
      "  ...\n",
      "\n",
      "  [[107   5  23]\n",
      "   [ 15 113  49]\n",
      "   [209 132 124]\n",
      "   ...\n",
      "   [ 49  68  35]\n",
      "   [123 147 197]\n",
      "   [180 102  30]]\n",
      "\n",
      "  [[244  63 109]\n",
      "   [ 54  81  48]\n",
      "   [ 92  68  76]\n",
      "   ...\n",
      "   [ 73 229  71]\n",
      "   [178 143 234]\n",
      "   [179 104 208]]\n",
      "\n",
      "  [[117 172 184]\n",
      "   [234 161  27]\n",
      "   [ 72 233 138]\n",
      "   ...\n",
      "   [207   8  28]\n",
      "   [132 237  84]\n",
      "   [ 90 122 210]]]]\n",
      "(2, 200, 300, 3)\n"
     ]
    }
   ],
   "source": [
    "image1 = np.random.randint(low=0, high=256, size=(200, 300, 3), dtype=np.uint8)\n",
    "image2 = np.random.randint(low=0, high=256, size=(200, 300, 3), dtype=np.uint8)\n",
    "\n",
    "image1_extended = np.expand_dims(image1, axis=0)\n",
    "image2_extended = np.expand_dims(image2, axis=0)\n",
    "\n",
    "images = np.append(image1_extended, image2_extended, axis=0)\n",
    "print(images)\n",
    "print(images.shape)"
   ]
  },
  {
   "cell_type": "code",
   "execution_count": 11,
   "metadata": {},
   "outputs": [
    {
     "name": "stdout",
     "output_type": "stream",
     "text": [
      "[[1 2 3]\n",
      " [6 3 2]]\n"
     ]
    }
   ],
   "source": [
    "A = np.array([[[1, 2, 3], [6, 3, 2]]])\n",
    "print(np.squeeze(A))"
   ]
  },
  {
   "cell_type": "code",
   "execution_count": 12,
   "metadata": {},
   "outputs": [
    {
     "name": "stdout",
     "output_type": "stream",
     "text": [
      "[0.4 0.9 0.5 0.6]\n"
     ]
    }
   ],
   "source": [
    "A = np.array([[0.4], [0.9], [0.5], [0.6]])\n",
    "print(np.squeeze(A))"
   ]
  },
  {
   "cell_type": "code",
   "execution_count": 13,
   "metadata": {},
   "outputs": [
    {
     "name": "stdout",
     "output_type": "stream",
     "text": [
      "[[ 3  2  1  0]\n",
      " [ 7  6  5  4]\n",
      " [11 10  9  8]]\n"
     ]
    }
   ],
   "source": [
    "A = np.array([[0, 1, 2, 3], [4, 5, 6, 7], [8, 9, 10, 11]])\n",
    "print(A[:, ::-1])"
   ]
  },
  {
   "cell_type": "code",
   "execution_count": 14,
   "metadata": {},
   "outputs": [
    {
     "name": "stdout",
     "output_type": "stream",
     "text": [
      "[[11 10  9  8]\n",
      " [ 7  6  5  4]\n",
      " [ 3  2  1  0]]\n"
     ]
    }
   ],
   "source": [
    "A = np.arange(0, 12, dtype=\"int\").reshape(3, -1)\n",
    "print(A[::-1, ::-1])"
   ]
  },
  {
   "cell_type": "code",
   "execution_count": 15,
   "metadata": {},
   "outputs": [
    {
     "name": "stdout",
     "output_type": "stream",
     "text": [
      "[[102 220 225]\n",
      " [ 95 179  61]\n",
      " [234 203  92]\n",
      " [  3  98 243]\n",
      " [ 14 149 245]\n",
      " [ 46 106 244]\n",
      " [ 99 187  71]\n",
      " [212 153 199]\n",
      " [188 174  65]\n",
      " [153  20  44]]\n"
     ]
    }
   ],
   "source": [
    "np.random.seed(42)\n",
    "\n",
    "image = np.random.randint(low=0, high=256, size=(10, 10, 3), dtype=np.uint8)\n",
    "\n",
    "print(image[0])"
   ]
  },
  {
   "cell_type": "code",
   "execution_count": 21,
   "metadata": {},
   "outputs": [
    {
     "name": "stdout",
     "output_type": "stream",
     "text": [
      "(5, 5, 3)\n"
     ]
    }
   ],
   "source": [
    "image = np.random.randint(low=0, high=256, size=(10, 10, 3), dtype=np.uint8)\n",
    "\n",
    "result = image[:5, :5, :]\n",
    "print(result.shape)"
   ]
  }
 ],
 "metadata": {
  "kernelspec": {
   "display_name": "Python 3",
   "language": "python",
   "name": "python3"
  },
  "language_info": {
   "codemirror_mode": {
    "name": "ipython",
    "version": 3
   },
   "file_extension": ".py",
   "mimetype": "text/x-python",
   "name": "python",
   "nbconvert_exporter": "python",
   "pygments_lexer": "ipython3",
   "version": "3.11.1"
  }
 },
 "nbformat": 4,
 "nbformat_minor": 2
}
