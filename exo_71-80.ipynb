{
 "cells": [
  {
   "cell_type": "code",
   "execution_count": 10,
   "metadata": {},
   "outputs": [],
   "source": [
    "import numpy as np\n",
    "\n",
    "np.random.seed(42)"
   ]
  },
  {
   "cell_type": "code",
   "execution_count": 5,
   "metadata": {},
   "outputs": [
    {
     "name": "stdout",
     "output_type": "stream",
     "text": [
      "[['id' 'price']\n",
      " ['003' '7.99']\n",
      " ['005' '1.49']\n",
      " ['004' '2.49']\n",
      " ['001' '14.99']\n",
      " ['002' '4.99']]\n"
     ]
    }
   ],
   "source": [
    "A = np.array(\n",
    "    [\n",
    "        [\"id\", \"price\"],\n",
    "        [\"001\", 14.99],\n",
    "        [\"002\", 4.99],\n",
    "        [\"003\", 7.99],\n",
    "        [\"004\", 2.49],\n",
    "        [\"005\", 1.49],\n",
    "    ]\n",
    ")\n",
    "np.random.shuffle(A[1:])\n",
    "print(A)"
   ]
  },
  {
   "cell_type": "code",
   "execution_count": 8,
   "metadata": {},
   "outputs": [
    {
     "name": "stdout",
     "output_type": "stream",
     "text": [
      "[5 2 1 0 4 3]\n"
     ]
    }
   ],
   "source": [
    "A = np.array([0.2, 0.15, 0.1, 0.3, 0.2, 0.05])\n",
    "print(np.argsort(A))"
   ]
  },
  {
   "cell_type": "code",
   "execution_count": 16,
   "metadata": {},
   "outputs": [
    {
     "name": "stdout",
     "output_type": "stream",
     "text": [
      "[[ 0.497 -0.138  0.648  1.523 -0.234 -0.234  1.579  0.767]\n",
      " [-0.469  0.543 -0.463 -0.466  0.242 -1.913 -1.725 -0.562]\n",
      " [-1.013  0.314 -0.908 -1.412  1.466 -0.226  0.068 -1.425]\n",
      " [-0.544  0.111 -1.151  0.376 -0.601 -0.292 -0.602  1.852]\n",
      " [-0.013 -1.058  0.823 -1.221  0.209 -1.96  -1.328  0.197]\n",
      " [ 0.738  0.171 -0.116 -0.301 -1.479 -0.72  -0.461  1.057]\n",
      " [ 0.344 -1.763  0.324 -0.385 -0.677  0.612  1.031  0.931]\n",
      " [-0.839 -0.309  0.331  0.976 -0.479 -0.186 -1.106 -1.196]\n",
      " [ 0.813  1.356 -0.072  1.004  0.362 -0.645  0.361  1.538]\n",
      " [-0.036  1.565 -2.62   0.822  0.087 -0.299  0.092 -1.988]]\n"
     ]
    }
   ],
   "source": [
    "np.random.seed(42)\n",
    "A = np.random.randn(10, 8)\n",
    "print(np.round(A, 3))"
   ]
  },
  {
   "cell_type": "code",
   "execution_count": 17,
   "metadata": {},
   "outputs": [
    {
     "name": "stdout",
     "output_type": "stream",
     "text": [
      "[-1.   -0.25]\n"
     ]
    }
   ],
   "source": [
    "print(np.roots([4, 5, 1]))"
   ]
  },
  {
   "cell_type": "code",
   "execution_count": 18,
   "metadata": {},
   "outputs": [
    {
     "name": "stdout",
     "output_type": "stream",
     "text": [
      "[-2.91610583  0.65388685  0.26221898]\n",
      "[-1.67298165  1.46961743  0.20336421]\n"
     ]
    }
   ],
   "source": [
    "print(np.roots([2, 4, -5, 1]))\n",
    "print(np.roots([2, 0, -5, 1]))"
   ]
  },
  {
   "cell_type": "code",
   "execution_count": 20,
   "metadata": {},
   "outputs": [
    {
     "name": "stdout",
     "output_type": "stream",
     "text": [
      "[2 8 0 2]\n",
      "[-2  0 10  0]\n",
      "[  8  26   2 -17   0   1]\n",
      "[ 4 12 -5  3]\n"
     ]
    }
   ],
   "source": [
    "W = np.array([0, 4, 5, 1])\n",
    "Q = np.array([2, 4, -5, 1])\n",
    "\n",
    "print(np.polyadd(W, Q))\n",
    "print(np.polysub(W, Q))\n",
    "print(np.polymul(W, Q))\n",
    "print(np.polyadd(W, 2 * Q))"
   ]
  },
  {
   "cell_type": "code",
   "execution_count": 21,
   "metadata": {},
   "outputs": [
    {
     "name": "stdout",
     "output_type": "stream",
     "text": [
      "[[-1  1  0  1 -1]\n",
      " [ 1 -1 -1  1  1]]\n"
     ]
    }
   ],
   "source": [
    "A = np.array([[-4, 3, 0, 1, -5], [6, -4, -2, 1, 3]])\n",
    "print(np.sign(A))"
   ]
  },
  {
   "cell_type": "code",
   "execution_count": 32,
   "metadata": {},
   "outputs": [
    {
     "name": "stdout",
     "output_type": "stream",
     "text": [
      "['2021-01-01' '2021-01-02' '2021-01-03' '2021-01-04' '2021-01-05'\n",
      " '2021-01-06' '2021-01-07' '2021-01-08' '2021-01-09' '2021-01-10'\n",
      " '2021-01-11' '2021-01-12' '2021-01-13' '2021-01-14' '2021-01-15'\n",
      " '2021-01-16' '2021-01-17' '2021-01-18' '2021-01-19' '2021-01-20'\n",
      " '2021-01-21' '2021-01-22' '2021-01-23' '2021-01-24' '2021-01-25'\n",
      " '2021-01-26' '2021-01-27' '2021-01-28' '2021-01-29' '2021-01-30'\n",
      " '2021-01-31']\n"
     ]
    }
   ],
   "source": [
    "print(np.arange(\"2021-01-01\", \"2021-02-01\", dtype=\"datetime64[D]\"))"
   ]
  },
  {
   "cell_type": "code",
   "execution_count": 34,
   "metadata": {},
   "outputs": [
    {
     "name": "stdout",
     "output_type": "stream",
     "text": [
      "[['2021-01' '2021-02' '2021-03']\n",
      " ['2021-04' '2021-05' '2021-06']\n",
      " ['2021-07' '2021-08' '2021-09']\n",
      " ['2021-10' '2021-11' '2021-12']]\n"
     ]
    }
   ],
   "source": [
    "print(np.arange(\"2021-01\", \"2022-01\", dtype=\"datetime64[M]\").reshape(4, -1))"
   ]
  },
  {
   "cell_type": "code",
   "execution_count": 37,
   "metadata": {},
   "outputs": [
    {
     "name": "stdout",
     "output_type": "stream",
     "text": [
      "2024-05-20\n"
     ]
    }
   ],
   "source": [
    "print(np.datetime64(\"today\"))"
   ]
  }
 ],
 "metadata": {
  "kernelspec": {
   "display_name": "Python 3",
   "language": "python",
   "name": "python3"
  },
  "language_info": {
   "codemirror_mode": {
    "name": "ipython",
    "version": 3
   },
   "file_extension": ".py",
   "mimetype": "text/x-python",
   "name": "python",
   "nbconvert_exporter": "python",
   "pygments_lexer": "ipython3",
   "version": "3.11.1"
  }
 },
 "nbformat": 4,
 "nbformat_minor": 2
}
