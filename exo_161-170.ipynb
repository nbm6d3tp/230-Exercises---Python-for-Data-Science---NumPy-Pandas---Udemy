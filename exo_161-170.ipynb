{
 "cells": [
  {
   "cell_type": "code",
   "execution_count": 2,
   "metadata": {},
   "outputs": [],
   "source": [
    "import numpy as np\n",
    "import pandas as pd"
   ]
  },
  {
   "cell_type": "code",
   "execution_count": 11,
   "metadata": {},
   "outputs": [
    {
     "name": "stdout",
     "output_type": "stream",
     "text": [
      "                                  Name    Location  Year  Kilometers_Driven  \\\n",
      "0               Maruti Wagon R LXI CNG      Mumbai  2010              72000   \n",
      "1     Hyundai Creta 1.6 CRDi SX Option        Pune  2015              41000   \n",
      "2                         Honda Jazz V     Chennai  2011              46000   \n",
      "3                    Maruti Ertiga VDI     Chennai  2012              87000   \n",
      "4      Audi A4 New 2.0 TDI Multitronic  Coimbatore  2013              40670   \n",
      "...                                ...         ...   ...                ...   \n",
      "6014                  Maruti Swift VDI       Delhi  2014              27365   \n",
      "6015          Hyundai Xcent 1.1 CRDi S      Jaipur  2015             100000   \n",
      "6016             Mahindra Xylo D4 BSIV      Jaipur  2012              55000   \n",
      "6017                Maruti Wagon R VXI     Kolkata  2013              46000   \n",
      "6018             Chevrolet Beat Diesel   Hyderabad  2011              47000   \n",
      "\n",
      "     Fuel_Type Transmission Owner_Type     Mileage   Engine      Power  Seats  \\\n",
      "0          CNG       Manual      First  26.6 km/kg   998 CC  58.16 bhp    5.0   \n",
      "1       Diesel       Manual      First  19.67 kmpl  1582 CC  126.2 bhp    5.0   \n",
      "2       Petrol       Manual      First   18.2 kmpl  1199 CC   88.7 bhp    5.0   \n",
      "3       Diesel       Manual      First  20.77 kmpl  1248 CC  88.76 bhp    7.0   \n",
      "4       Diesel    Automatic     Second   15.2 kmpl  1968 CC  140.8 bhp    5.0   \n",
      "...        ...          ...        ...         ...      ...        ...    ...   \n",
      "6014    Diesel       Manual      First   28.4 kmpl  1248 CC     74 bhp    5.0   \n",
      "6015    Diesel       Manual      First   24.4 kmpl  1120 CC     71 bhp    5.0   \n",
      "6016    Diesel       Manual     Second   14.0 kmpl  2498 CC    112 bhp    8.0   \n",
      "6017    Petrol       Manual      First   18.9 kmpl   998 CC   67.1 bhp    5.0   \n",
      "6018    Diesel       Manual      First  25.44 kmpl   936 CC   57.6 bhp    5.0   \n",
      "\n",
      "      New_Price  Price  \n",
      "0           NaN   1.75  \n",
      "1           NaN  12.50  \n",
      "2     8.61 Lakh   4.50  \n",
      "3           NaN   6.00  \n",
      "4           NaN  17.74  \n",
      "...         ...    ...  \n",
      "6014  7.88 Lakh   4.75  \n",
      "6015        NaN   4.00  \n",
      "6016        NaN   2.90  \n",
      "6017        NaN   2.65  \n",
      "6018        NaN   2.50  \n",
      "\n",
      "[6019 rows x 13 columns]\n"
     ]
    }
   ],
   "source": [
    "url = \"https://storage.googleapis.com/esmartdata-courses-files/dash-course/data.csv\"\n",
    "df = pd.read_csv(url, index_col=0)\n",
    "\n",
    "print(df)"
   ]
  },
  {
   "cell_type": "code",
   "execution_count": 12,
   "metadata": {},
   "outputs": [
    {
     "name": "stdout",
     "output_type": "stream",
     "text": [
      "['Name' 'Location' 'Year' 'Kilometers_Driven' 'Fuel_Type' 'Transmission'\n",
      " 'Owner_Type' 'Mileage' 'Engine' 'Power' 'Seats' 'New_Price' 'Price']\n"
     ]
    }
   ],
   "source": [
    "print(df.columns.values)"
   ]
  },
  {
   "cell_type": "code",
   "execution_count": 13,
   "metadata": {},
   "outputs": [
    {
     "name": "stdout",
     "output_type": "stream",
     "text": [
      "                               Name    Location  Year  Kilometers_Driven  \\\n",
      "0            Maruti Wagon R LXI CNG      Mumbai  2010              72000   \n",
      "1  Hyundai Creta 1.6 CRDi SX Option        Pune  2015              41000   \n",
      "2                      Honda Jazz V     Chennai  2011              46000   \n",
      "3                 Maruti Ertiga VDI     Chennai  2012              87000   \n",
      "4   Audi A4 New 2.0 TDI Multitronic  Coimbatore  2013              40670   \n",
      "\n",
      "  Fuel_Type Transmission Owner_Type     Mileage   Engine      Power  Seats  \\\n",
      "0       CNG       Manual      First  26.6 km/kg   998 CC  58.16 bhp    5.0   \n",
      "1    Diesel       Manual      First  19.67 kmpl  1582 CC  126.2 bhp    5.0   \n",
      "2    Petrol       Manual      First   18.2 kmpl  1199 CC   88.7 bhp    5.0   \n",
      "3    Diesel       Manual      First  20.77 kmpl  1248 CC  88.76 bhp    7.0   \n",
      "4    Diesel    Automatic     Second   15.2 kmpl  1968 CC  140.8 bhp    5.0   \n",
      "\n",
      "   Price  \n",
      "0   1.75  \n",
      "1  12.50  \n",
      "2   4.50  \n",
      "3   6.00  \n",
      "4  17.74  \n"
     ]
    }
   ],
   "source": [
    "url = \"https://storage.googleapis.com/esmartdata-courses-files/dash-course/data.csv\"\n",
    "df = pd.read_csv(url, index_col=0)\n",
    "\n",
    "df.drop(\"New_Price\", axis=1, inplace=True)\n",
    "print(df.head())"
   ]
  },
  {
   "cell_type": "code",
   "execution_count": 14,
   "metadata": {},
   "outputs": [
    {
     "name": "stdout",
     "output_type": "stream",
     "text": [
      "Name                  0\n",
      "Location              0\n",
      "Year                  0\n",
      "Kilometers_Driven     0\n",
      "Fuel_Type             0\n",
      "Transmission          0\n",
      "Owner_Type            0\n",
      "Mileage               2\n",
      "Engine               36\n",
      "Power                36\n",
      "Seats                42\n",
      "Price                 0\n",
      "dtype: int64\n"
     ]
    }
   ],
   "source": [
    "print(df.isnull().sum())"
   ]
  },
  {
   "cell_type": "code",
   "execution_count": 17,
   "metadata": {},
   "outputs": [
    {
     "name": "stdout",
     "output_type": "stream",
     "text": [
      "<class 'pandas.core.frame.DataFrame'>\n",
      "Index: 823 entries, 2 to 6014\n",
      "Data columns (total 13 columns):\n",
      " #   Column             Non-Null Count  Dtype  \n",
      "---  ------             --------------  -----  \n",
      " 0   Name               823 non-null    object \n",
      " 1   Location           823 non-null    object \n",
      " 2   Year               823 non-null    int64  \n",
      " 3   Kilometers_Driven  823 non-null    int64  \n",
      " 4   Fuel_Type          823 non-null    object \n",
      " 5   Transmission       823 non-null    object \n",
      " 6   Owner_Type         823 non-null    object \n",
      " 7   Mileage            823 non-null    object \n",
      " 8   Engine             823 non-null    object \n",
      " 9   Power              823 non-null    object \n",
      " 10  Seats              823 non-null    float64\n",
      " 11  New_Price          823 non-null    object \n",
      " 12  Price              823 non-null    float64\n",
      "dtypes: float64(2), int64(2), object(9)\n",
      "memory usage: 90.0+ KB\n"
     ]
    }
   ],
   "source": [
    "url = \"https://storage.googleapis.com/esmartdata-courses-files/dash-course/data.csv\"\n",
    "df = pd.read_csv(url, index_col=0)\n",
    "df.dropna(inplace=True)\n",
    "df.info()"
   ]
  },
  {
   "cell_type": "code",
   "execution_count": 20,
   "metadata": {},
   "outputs": [
    {
     "name": "stdout",
     "output_type": "stream",
     "text": [
      "                               name    location  year  kilometers_driven  \\\n",
      "0            Maruti Wagon R LXI CNG      Mumbai  2010              72000   \n",
      "1  Hyundai Creta 1.6 CRDi SX Option        Pune  2015              41000   \n",
      "2                      Honda Jazz V     Chennai  2011              46000   \n",
      "3                 Maruti Ertiga VDI     Chennai  2012              87000   \n",
      "4   Audi A4 New 2.0 TDI Multitronic  Coimbatore  2013              40670   \n",
      "\n",
      "  fuel_type transmission owner_type     mileage   engine      power  seats  \\\n",
      "0       CNG       Manual      First  26.6 km/kg   998 CC  58.16 bhp    5.0   \n",
      "1    Diesel       Manual      First  19.67 kmpl  1582 CC  126.2 bhp    5.0   \n",
      "2    Petrol       Manual      First   18.2 kmpl  1199 CC   88.7 bhp    5.0   \n",
      "3    Diesel       Manual      First  20.77 kmpl  1248 CC  88.76 bhp    7.0   \n",
      "4    Diesel    Automatic     Second   15.2 kmpl  1968 CC  140.8 bhp    5.0   \n",
      "\n",
      "   new_price  price  \n",
      "0        NaN   1.75  \n",
      "1        NaN  12.50  \n",
      "2  8.61 Lakh   4.50  \n",
      "3        NaN   6.00  \n",
      "4        NaN  17.74  \n"
     ]
    }
   ],
   "source": [
    "url = \"https://storage.googleapis.com/esmartdata-courses-files/dash-course/data.csv\"\n",
    "df = pd.read_csv(url, index_col=0)\n",
    "# df.columns = df.columns.str.lower()\n",
    "df.columns = [col.lower() for col in df.columns]\n",
    "print(df.head())"
   ]
  },
  {
   "cell_type": "code",
   "execution_count": 21,
   "metadata": {},
   "outputs": [
    {
     "name": "stdout",
     "output_type": "stream",
     "text": [
      "owner_type\n",
      "First             4929\n",
      "Second             968\n",
      "Third              113\n",
      "Fourth & Above       9\n",
      "Name: count, dtype: int64\n"
     ]
    }
   ],
   "source": [
    "print(df[\"owner_type\"].value_counts())"
   ]
  },
  {
   "cell_type": "code",
   "execution_count": 67,
   "metadata": {},
   "outputs": [
    {
     "name": "stdout",
     "output_type": "stream",
     "text": [
      "                                 name  engine\n",
      "2                        Honda Jazz V    1199\n",
      "7   Toyota Innova Crysta 2.8 GX AT 8S    2755\n",
      "10                   Maruti Ciaz Zeta    1462\n",
      "15        Mitsubishi Pajero Sport 4X4    2477\n",
      "20                  BMW 3 Series 320d    1995\n"
     ]
    }
   ],
   "source": [
    "url = \"https://storage.googleapis.com/esmartdata-courses-files/dash-course/data.csv\"\n",
    "df = pd.read_csv(url, index_col=0)\n",
    "df.columns = [col.lower() for col in df.columns]\n",
    "df.dropna(inplace=True)\n",
    "# df[\"engine\"] = df[\"engine\"].str[:-3].str.strip().astype(int)\n",
    "df[\"engine\"] = df[\"engine\"].map(lambda x: int(x[:-3]))\n",
    "print(df[[\"name\", \"engine\"]].head())"
   ]
  },
  {
   "cell_type": "code",
   "execution_count": 76,
   "metadata": {},
   "outputs": [
    {
     "name": "stdout",
     "output_type": "stream",
     "text": [
      "power\n",
      "74 bhp      235\n",
      "98.6 bhp    131\n",
      "73.9 bhp    125\n",
      "140 bhp     123\n",
      "78.9 bhp    111\n",
      "Name: count, dtype: int64\n"
     ]
    }
   ],
   "source": [
    "url = \"https://storage.googleapis.com/esmartdata-courses-files/dash-course/data.csv\"\n",
    "df = pd.read_csv(url, index_col=0)\n",
    "df.columns = [col.lower() for col in df.columns]\n",
    "\n",
    "# df[\"power\"] = df[\"power\"].map(lambda x: np.where(x == \"null bhp\", np.nan, x))\n",
    "df[\"power\"] = np.where(df[\"power\"] == \"null bhp\", np.nan, df[\"power\"])\n",
    "print(df[\"power\"].value_counts()[:5])"
   ]
  },
  {
   "cell_type": "code",
   "execution_count": 78,
   "metadata": {},
   "outputs": [
    {
     "name": "stdout",
     "output_type": "stream",
     "text": [
      "year\n",
      "1998      4\n",
      "1999      2\n",
      "2000      4\n",
      "2001      8\n",
      "2002     15\n",
      "2003     17\n",
      "2004     31\n",
      "2005     57\n",
      "2006     78\n",
      "2007    125\n",
      "2008    174\n",
      "2009    198\n",
      "2010    342\n",
      "2011    466\n",
      "2012    580\n",
      "2013    649\n",
      "2014    797\n",
      "2015    744\n",
      "2016    741\n",
      "2017    587\n",
      "2018    298\n",
      "2019    102\n",
      "dtype: int64\n"
     ]
    }
   ],
   "source": [
    "url = \"https://storage.googleapis.com/esmartdata-courses-files/dash-course/data.csv\"\n",
    "df = pd.read_csv(url, index_col=0)\n",
    "df.columns = [col.lower() for col in df.columns]\n",
    "\n",
    "print(df.groupby([\"year\"]).size())"
   ]
  }
 ],
 "metadata": {
  "kernelspec": {
   "display_name": ".venv",
   "language": "python",
   "name": "python3"
  },
  "language_info": {
   "codemirror_mode": {
    "name": "ipython",
    "version": 3
   },
   "file_extension": ".py",
   "mimetype": "text/x-python",
   "name": "python",
   "nbconvert_exporter": "python",
   "pygments_lexer": "ipython3",
   "version": "3.11.1"
  }
 },
 "nbformat": 4,
 "nbformat_minor": 2
}
