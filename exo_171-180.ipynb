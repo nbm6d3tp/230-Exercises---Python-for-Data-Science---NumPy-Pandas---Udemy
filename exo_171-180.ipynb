{
 "cells": [
  {
   "cell_type": "code",
   "execution_count": 1,
   "metadata": {},
   "outputs": [],
   "source": [
    "import numpy as np\n",
    "import pandas as pd"
   ]
  },
  {
   "cell_type": "code",
   "execution_count": 3,
   "metadata": {},
   "outputs": [
    {
     "name": "stdout",
     "output_type": "stream",
     "text": [
      "0    0\n",
      "1    0\n",
      "2    0\n",
      "3    0\n",
      "4    1\n",
      "Name: transmission, dtype: int64\n"
     ]
    }
   ],
   "source": [
    "url = \"https://storage.googleapis.com/esmartdata-courses-files/dash-course/data.csv\"\n",
    "df = pd.read_csv(url, index_col=0)\n",
    "df.columns = [col.lower() for col in df.columns]\n",
    "\n",
    "df[\"transmission\"] = df[\"transmission\"].map({\"Manual\": 0, \"Automatic\": 1})\n",
    "print(df[\"transmission\"].head())"
   ]
  },
  {
   "cell_type": "code",
   "execution_count": 5,
   "metadata": {},
   "outputs": [],
   "source": [
    "url = \"https://storage.googleapis.com/esmartdata-courses-files/dash-course/data.csv\"\n",
    "df = pd.read_csv(url, index_col=0)\n",
    "df.columns = [col.lower() for col in df.columns]\n",
    "df.to_csv(\"cars.csv\", index=False)"
   ]
  },
  {
   "cell_type": "code",
   "execution_count": 6,
   "metadata": {},
   "outputs": [
    {
     "name": "stdout",
     "output_type": "stream",
     "text": [
      "<class 'pandas.core.frame.DataFrame'>\n",
      "Index: 17414 entries, 2015-01-04 00:00:00 to 2017-01-03 23:00:00\n",
      "Data columns (total 9 columns):\n",
      " #   Column        Non-Null Count  Dtype  \n",
      "---  ------        --------------  -----  \n",
      " 0   cnt           17414 non-null  int64  \n",
      " 1   t1            17414 non-null  float64\n",
      " 2   t2            17414 non-null  float64\n",
      " 3   hum           17414 non-null  float64\n",
      " 4   wind_speed    17414 non-null  float64\n",
      " 5   weather_code  17414 non-null  float64\n",
      " 6   is_holiday    17414 non-null  float64\n",
      " 7   is_weekend    17414 non-null  float64\n",
      " 8   season        17414 non-null  float64\n",
      "dtypes: float64(8), int64(1)\n",
      "memory usage: 1.3+ MB\n"
     ]
    }
   ],
   "source": [
    "url = \"https://storage.googleapis.com/esmartdata-courses-files/ds-bootcamp/london_bike.csv\"\n",
    "df = pd.read_csv(url, index_col=0)\n",
    "df.info()"
   ]
  },
  {
   "cell_type": "code",
   "execution_count": 7,
   "metadata": {},
   "outputs": [
    {
     "name": "stdout",
     "output_type": "stream",
     "text": [
      "                     cnt   t1   t2    hum  wind_speed  weather_code  \\\n",
      "timestamp                                                             \n",
      "2015-01-04 00:00:00  182  3.0  2.0   93.0         6.0           3.0   \n",
      "2015-01-04 01:00:00  138  3.0  2.5   93.0         5.0           1.0   \n",
      "2015-01-04 02:00:00  134  2.5  2.5   96.5         0.0           1.0   \n",
      "2015-01-04 03:00:00   72  2.0  2.0  100.0         0.0           1.0   \n",
      "2015-01-04 04:00:00   47  2.0  0.0   93.0         6.5           1.0   \n",
      "\n",
      "                     is_holiday  is_weekend  season  \n",
      "timestamp                                            \n",
      "2015-01-04 00:00:00         0.0         1.0     3.0  \n",
      "2015-01-04 01:00:00         0.0         1.0     3.0  \n",
      "2015-01-04 02:00:00         0.0         1.0     3.0  \n",
      "2015-01-04 03:00:00         0.0         1.0     3.0  \n",
      "2015-01-04 04:00:00         0.0         1.0     3.0  \n",
      "\n",
      "                      cnt   t1   t2   hum  wind_speed  weather_code  \\\n",
      "timestamp                                                             \n",
      "2017-01-03 19:00:00  1042  5.0  1.0  81.0        19.0           3.0   \n",
      "2017-01-03 20:00:00   541  5.0  1.0  81.0        21.0           4.0   \n",
      "2017-01-03 21:00:00   337  5.5  1.5  78.5        24.0           4.0   \n",
      "2017-01-03 22:00:00   224  5.5  1.5  76.0        23.0           4.0   \n",
      "2017-01-03 23:00:00   139  5.0  1.0  76.0        22.0           2.0   \n",
      "\n",
      "                     is_holiday  is_weekend  season  \n",
      "timestamp                                            \n",
      "2017-01-03 19:00:00         0.0         0.0     3.0  \n",
      "2017-01-03 20:00:00         0.0         0.0     3.0  \n",
      "2017-01-03 21:00:00         0.0         0.0     3.0  \n",
      "2017-01-03 22:00:00         0.0         0.0     3.0  \n",
      "2017-01-03 23:00:00         0.0         0.0     3.0  \n"
     ]
    }
   ],
   "source": [
    "url = \"https://storage.googleapis.com/esmartdata-courses-files/ds-bootcamp/london_bike.csv\"\n",
    "df = pd.read_csv(url, index_col=0)\n",
    "print(df.head())\n",
    "print()\n",
    "print(df.tail(5))"
   ]
  },
  {
   "cell_type": "code",
   "execution_count": 12,
   "metadata": {},
   "outputs": [
    {
     "name": "stdout",
     "output_type": "stream",
     "text": [
      "<class 'pandas.core.frame.DataFrame'>\n",
      "RangeIndex: 17414 entries, 0 to 17413\n",
      "Data columns (total 10 columns):\n",
      " #   Column        Non-Null Count  Dtype         \n",
      "---  ------        --------------  -----         \n",
      " 0   timestamp     17414 non-null  datetime64[ns]\n",
      " 1   cnt           17414 non-null  int64         \n",
      " 2   t1            17414 non-null  float64       \n",
      " 3   t2            17414 non-null  float64       \n",
      " 4   hum           17414 non-null  float64       \n",
      " 5   wind_speed    17414 non-null  float64       \n",
      " 6   weather_code  17414 non-null  float64       \n",
      " 7   is_holiday    17414 non-null  float64       \n",
      " 8   is_weekend    17414 non-null  float64       \n",
      " 9   season        17414 non-null  float64       \n",
      "dtypes: datetime64[ns](1), float64(8), int64(1)\n",
      "memory usage: 1.3 MB\n"
     ]
    }
   ],
   "source": [
    "url = \"https://storage.googleapis.com/esmartdata-courses-files/ds-bootcamp/london_bike.csv\"\n",
    "df = pd.read_csv(url)\n",
    "df[\"timestamp\"] = pd.to_datetime(df[\"timestamp\"])\n",
    "df.info()"
   ]
  },
  {
   "cell_type": "code",
   "execution_count": 13,
   "metadata": {},
   "outputs": [
    {
     "name": "stdout",
     "output_type": "stream",
     "text": [
      "            timestamp  cnt   t1   t2    hum  wind_speed  weather_code  \\\n",
      "0 2015-01-04 00:00:00  182  3.0  2.0   93.0         6.0           3.0   \n",
      "1 2015-01-04 01:00:00  138  3.0  2.5   93.0         5.0           1.0   \n",
      "2 2015-01-04 02:00:00  134  2.5  2.5   96.5         0.0           1.0   \n",
      "3 2015-01-04 03:00:00   72  2.0  2.0  100.0         0.0           1.0   \n",
      "4 2015-01-04 04:00:00   47  2.0  0.0   93.0         6.5           1.0   \n",
      "\n",
      "   is_holiday  is_weekend  season  hour  \n",
      "0         0.0         1.0     3.0     0  \n",
      "1         0.0         1.0     3.0     1  \n",
      "2         0.0         1.0     3.0     2  \n",
      "3         0.0         1.0     3.0     3  \n",
      "4         0.0         1.0     3.0     4  \n"
     ]
    }
   ],
   "source": [
    "url = \"https://storage.googleapis.com/esmartdata-courses-files/ds-bootcamp/london_bike.csv\"\n",
    "df = pd.read_csv(url)\n",
    "df[\"timestamp\"] = pd.to_datetime(df[\"timestamp\"])\n",
    "df[\"hour\"] = df[\"timestamp\"].dt.hour\n",
    "\n",
    "print(df.head())"
   ]
  },
  {
   "cell_type": "code",
   "execution_count": 14,
   "metadata": {},
   "outputs": [
    {
     "name": "stdout",
     "output_type": "stream",
     "text": [
      "            timestamp  cnt   t1   t2    hum  wind_speed  weather_code  \\\n",
      "0 2015-01-04 00:00:00  182  3.0  2.0   93.0         6.0           3.0   \n",
      "1 2015-01-04 01:00:00  138  3.0  2.5   93.0         5.0           1.0   \n",
      "2 2015-01-04 02:00:00  134  2.5  2.5   96.5         0.0           1.0   \n",
      "3 2015-01-04 03:00:00   72  2.0  2.0  100.0         0.0           1.0   \n",
      "4 2015-01-04 04:00:00   47  2.0  0.0   93.0         6.5           1.0   \n",
      "\n",
      "   is_holiday  is_weekend  season  hour  month  \n",
      "0         0.0         1.0     3.0     0      1  \n",
      "1         0.0         1.0     3.0     1      1  \n",
      "2         0.0         1.0     3.0     2      1  \n",
      "3         0.0         1.0     3.0     3      1  \n",
      "4         0.0         1.0     3.0     4      1  \n"
     ]
    }
   ],
   "source": [
    "url = \"https://storage.googleapis.com/esmartdata-courses-files/ds-bootcamp/london_bike.csv\"\n",
    "df = pd.read_csv(url)\n",
    "df[\"timestamp\"] = pd.to_datetime(df[\"timestamp\"])\n",
    "df[\"hour\"] = df[\"timestamp\"].dt.hour\n",
    "df[\"month\"] = df[\"timestamp\"].dt.month\n",
    "print(df.head())"
   ]
  },
  {
   "cell_type": "code",
   "execution_count": 17,
   "metadata": {},
   "outputs": [
    {
     "name": "stdout",
     "output_type": "stream",
     "text": [
      "    month        hum\n",
      "0       1  77.543376\n",
      "1       2  74.905813\n",
      "2       3  71.903781\n",
      "3       4  67.532337\n",
      "4       5  66.367272\n",
      "5       6  68.945148\n",
      "6       7  64.383525\n",
      "7       8  67.289420\n",
      "8       9  71.753228\n",
      "9      10  77.639621\n",
      "10     11  78.732517\n",
      "11     12  81.032345\n"
     ]
    }
   ],
   "source": [
    "url = \"https://storage.googleapis.com/esmartdata-courses-files/ds-bootcamp/london_bike.csv\"\n",
    "df = pd.read_csv(url)\n",
    "df[\"timestamp\"] = pd.to_datetime(df[\"timestamp\"])\n",
    "df[\"hour\"] = df[\"timestamp\"].dt.hour\n",
    "df[\"month\"] = df[\"timestamp\"].dt.month\n",
    "\n",
    "humidity_by_month = df.groupby(\"month\")[\"hum\"].mean().reset_index()\n",
    "print(humidity_by_month)"
   ]
  },
  {
   "cell_type": "code",
   "execution_count": 18,
   "metadata": {},
   "outputs": [
    {
     "name": "stdout",
     "output_type": "stream",
     "text": [
      "    hour          cnt\n",
      "0      0   290.609116\n",
      "1      1   200.631215\n",
      "2      2   136.303745\n",
      "3      3    94.245492\n",
      "4      4    73.313454\n",
      "5      5   110.707351\n",
      "6      6   466.626722\n",
      "7      7  1468.745179\n",
      "8      8  2882.823204\n",
      "9      9  1653.019257\n",
      "10    10  1064.660690\n",
      "11    11  1151.218707\n",
      "12    12  1433.717421\n",
      "13    13  1505.739011\n",
      "14    14  1472.004121\n",
      "15    15  1564.621399\n",
      "16    16  1869.801370\n",
      "17    17  2829.585165\n",
      "18    18  2629.043956\n",
      "19    19  1651.510316\n",
      "20    20  1059.781293\n",
      "21    21   741.249311\n",
      "22    22   592.409655\n",
      "23    23   439.652355\n"
     ]
    }
   ],
   "source": [
    "url = \"https://storage.googleapis.com/esmartdata-courses-files/ds-bootcamp/london_bike.csv\"\n",
    "df = pd.read_csv(url)\n",
    "df[\"timestamp\"] = pd.to_datetime(df[\"timestamp\"])\n",
    "df[\"hour\"] = df[\"timestamp\"].dt.hour\n",
    "df[\"month\"] = df[\"timestamp\"].dt.month\n",
    "\n",
    "cnt_by_hour = df.groupby(\"hour\")[\"cnt\"].mean().reset_index()\n",
    "print(cnt_by_hour)"
   ]
  },
  {
   "cell_type": "code",
   "execution_count": 20,
   "metadata": {},
   "outputs": [
    {
     "name": "stdout",
     "output_type": "stream",
     "text": [
      "    is_weekend  hour          cnt\n",
      "0          0.0     0   215.366795\n",
      "1          0.0     1   128.001931\n",
      "2          0.0     2    81.007737\n",
      "3          0.0     3    53.250000\n",
      "4          0.0     4    52.248062\n",
      "5          0.0     5   116.052326\n",
      "6          0.0     6   604.655106\n",
      "7          0.0     7  1969.518304\n",
      "8          0.0     8  3863.922780\n",
      "9          0.0     9  1997.605769\n",
      "10         0.0    10  1003.832692\n",
      "11         0.0    11   968.384615\n",
      "12         0.0    12  1233.938462\n",
      "13         0.0    13  1276.556840\n",
      "14         0.0    14  1211.795761\n",
      "15         0.0    15  1330.265385\n",
      "16         0.0    16  1801.692898\n",
      "17         0.0    17  3232.104046\n",
      "18         0.0    18  3051.809249\n",
      "19         0.0    19  1825.682081\n",
      "20         0.0    20  1133.965318\n",
      "21         0.0    21   789.131274\n",
      "22         0.0    22   614.686654\n",
      "23         0.0    23   434.893617\n",
      "24         1.0     0   479.810680\n",
      "25         1.0     1   383.262136\n",
      "26         1.0     2   276.441176\n",
      "27         1.0     3   197.434146\n",
      "28         1.0     4   126.336585\n",
      "29         1.0     5    97.253659\n",
      "30         1.0     6   120.555556\n",
      "31         1.0     7   213.183575\n",
      "32         1.0     8   415.786408\n",
      "33         1.0     9   787.391304\n",
      "34         1.0    10  1218.956098\n",
      "35         1.0    11  1610.512077\n",
      "36         1.0    12  1930.775120\n",
      "37         1.0    13  2074.856459\n",
      "38         1.0    14  2118.167464\n",
      "39         1.0    15  2147.708134\n",
      "40         1.0    16  2039.583732\n",
      "41         1.0    17  1830.028708\n",
      "42         1.0    18  1579.210526\n",
      "43         1.0    19  1216.918269\n",
      "44         1.0    20   874.677885\n",
      "45         1.0    21   622.004808\n",
      "46         1.0    22   537.038462\n",
      "47         1.0    23   451.653659\n"
     ]
    }
   ],
   "source": [
    "url = \"https://storage.googleapis.com/esmartdata-courses-files/ds-bootcamp/london_bike.csv\"\n",
    "df = pd.read_csv(url)\n",
    "df[\"timestamp\"] = pd.to_datetime(df[\"timestamp\"])\n",
    "df[\"hour\"] = df[\"timestamp\"].dt.hour\n",
    "df[\"month\"] = df[\"timestamp\"].dt.month\n",
    "\n",
    "cnt_by_weekend_hour = df.groupby([\"is_weekend\", \"hour\"])[\"cnt\"].mean().reset_index()\n",
    "print(cnt_by_weekend_hour)"
   ]
  }
 ],
 "metadata": {
  "kernelspec": {
   "display_name": ".venv",
   "language": "python",
   "name": "python3"
  },
  "language_info": {
   "codemirror_mode": {
    "name": "ipython",
    "version": 3
   },
   "file_extension": ".py",
   "mimetype": "text/x-python",
   "name": "python",
   "nbconvert_exporter": "python",
   "pygments_lexer": "ipython3",
   "version": "3.11.1"
  }
 },
 "nbformat": 4,
 "nbformat_minor": 2
}
