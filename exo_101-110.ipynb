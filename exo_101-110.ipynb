{
 "cells": [
  {
   "cell_type": "code",
   "execution_count": 8,
   "metadata": {},
   "outputs": [],
   "source": [
    "import pandas as pd\n",
    "import numpy as np"
   ]
  },
  {
   "cell_type": "code",
   "execution_count": 2,
   "metadata": {},
   "outputs": [
    {
     "name": "stdout",
     "output_type": "stream",
     "text": [
      "0    PLW\n",
      "1    CDR\n",
      "2    11B\n",
      "3    TEN\n",
      "dtype: object\n"
     ]
    }
   ],
   "source": [
    "stocks = [\"PLW\", \"CDR\", \"11B\", \"TEN\"]\n",
    "print(pd.Series(stocks))"
   ]
  },
  {
   "cell_type": "code",
   "execution_count": 4,
   "metadata": {},
   "outputs": [
    {
     "name": "stdout",
     "output_type": "stream",
     "text": [
      "PLW    387.0\n",
      "CDR    339.5\n",
      "TEN    349.5\n",
      "11B    391.0\n",
      "dtype: float64\n"
     ]
    }
   ],
   "source": [
    "stocks = {\"PLW\": 387.00, \"CDR\": 339.5, \"TEN\": 349.5, \"11B\": 391.0}\n",
    "quotations = pd.Series(stocks, dtype=\"float64\")\n",
    "print(quotations)"
   ]
  },
  {
   "cell_type": "code",
   "execution_count": 6,
   "metadata": {},
   "outputs": [
    {
     "name": "stdout",
     "output_type": "stream",
     "text": [
      "[387.0, 339.5, 349.5, 391.0]\n"
     ]
    }
   ],
   "source": [
    "stocks = {\"PLW\": 387.00, \"CDR\": 339.5, \"TEN\": 349.5, \"11B\": 391.0}\n",
    "quotations = pd.Series(stocks, dtype=\"float64\")\n",
    "quotations = quotations.tolist()\n",
    "print(quotations)"
   ]
  },
  {
   "cell_type": "code",
   "execution_count": 7,
   "metadata": {},
   "outputs": [
    {
     "name": "stdout",
     "output_type": "stream",
     "text": [
      "     price\n",
      "PLW  387.0\n",
      "CDR  339.5\n",
      "TEN  349.5\n",
      "11B  391.0\n"
     ]
    }
   ],
   "source": [
    "stocks = {\"PLW\": 387.00, \"CDR\": 339.5, \"TEN\": 349.5, \"11B\": 391.0}\n",
    "quotations = pd.Series(stocks, dtype=\"float64\")\n",
    "print(pd.DataFrame(quotations, columns=[\"price\"]))"
   ]
  },
  {
   "cell_type": "code",
   "execution_count": 17,
   "metadata": {},
   "outputs": [
    {
     "name": "stdout",
     "output_type": "stream",
     "text": [
      "101    10.0\n",
      "102    20.0\n",
      "103    30.0\n",
      "104    40.0\n",
      "105    50.0\n",
      "106    60.0\n",
      "107    70.0\n",
      "108    80.0\n",
      "109    90.0\n",
      "dtype: float64\n"
     ]
    }
   ],
   "source": [
    "print(\n",
    "    pd.Series(\n",
    "        data=np.arange(10.0, 100.0, 10, dtype=\"float64\"),\n",
    "        index=np.arange(101, 110, dtype=\"int\"),\n",
    "    )\n",
    ")"
   ]
  },
  {
   "cell_type": "code",
   "execution_count": 22,
   "metadata": {},
   "outputs": [
    {
     "name": "stdout",
     "output_type": "stream",
     "text": [
      "a    1\n",
      "b    2\n",
      "c    3\n",
      "d    4\n",
      "dtype: int64\n"
     ]
    }
   ],
   "source": [
    "series = pd.Series([\"001\", \"002\", \"003\", \"004\"], list(\"abcd\"))\n",
    "print(series.astype(\"int64\"))\n",
    "# print(pd.to_numeric(series))"
   ]
  },
  {
   "cell_type": "code",
   "execution_count": 26,
   "metadata": {},
   "outputs": [
    {
     "name": "stdout",
     "output_type": "stream",
     "text": [
      "PLW    387.0\n",
      "CDR    339.5\n",
      "TEN    349.5\n",
      "11B    391.0\n",
      "BBT     25.5\n",
      "F51     19.2\n",
      "dtype: float64\n"
     ]
    }
   ],
   "source": [
    "stocks = {\"PLW\": 387.00, \"CDR\": 339.5, \"TEN\": 349.5, \"11B\": 391.0}\n",
    "quotations = pd.Series(data=stocks)\n",
    "quotations = pd.concat([quotations, pd.Series({\"BBT\": 25.5, \"F51\": 19.2})])\n",
    "print(quotations)"
   ]
  },
  {
   "cell_type": "code",
   "execution_count": 33,
   "metadata": {},
   "outputs": [
    {
     "name": "stdout",
     "output_type": "stream",
     "text": [
      "  ticker  price\n",
      "0    PLW  387.0\n",
      "1    CDR  339.5\n",
      "2    TEN  349.5\n",
      "3    11B  391.0\n",
      "4    BBT   25.5\n",
      "5    F51   19.2\n"
     ]
    }
   ],
   "source": [
    "stocks = {\n",
    "    \"PLW\": 387.00,\n",
    "    \"CDR\": 339.5,\n",
    "    \"TEN\": 349.5,\n",
    "    \"11B\": 391.0,\n",
    "    \"BBT\": 25.5,\n",
    "    \"F51\": 19.2,\n",
    "}\n",
    "quotations = pd.Series(data=stocks)\n",
    "quotations = pd.DataFrame(quotations).reset_index()\n",
    "quotations.columns = [\"ticker\", \"price\"]\n",
    "print(quotations)"
   ]
  },
  {
   "cell_type": "code",
   "execution_count": 40,
   "metadata": {},
   "outputs": [
    {
     "name": "stdout",
     "output_type": "stream",
     "text": [
      "     company   price   ticker\n",
      "0     Amazon  2375.0  AMZN.US\n",
      "1  Microsoft   178.6  MSFT.US\n",
      "2   Facebook   179.2    FB.US\n"
     ]
    }
   ],
   "source": [
    "data = pd.array(\n",
    "    [\n",
    "        [\"company\", \"price\", \"ticker\"],\n",
    "        [\"Amazon\", \"2375.0\", \"AMZN.US\"],\n",
    "        [\"Microsoft\", \"178.6\", \"MSFT.US\"],\n",
    "        [\"Facebook\", \"179.2\", \"FB.US\"],\n",
    "    ],\n",
    "    dtype=\"<U14\",\n",
    ")\n",
    "companies = pd.DataFrame(\n",
    "    data[1:],\n",
    "    columns=data[0],\n",
    ")\n",
    "print(companies)"
   ]
  },
  {
   "cell_type": "code",
   "execution_count": 44,
   "metadata": {},
   "outputs": [
    {
     "name": "stdout",
     "output_type": "stream",
     "text": [
      "            price   ticker\n",
      "company                   \n",
      "Amazon     2375.0  AMZN.US\n",
      "Microsoft   178.6  MSFT.US\n",
      "Facebook    179.2    FB.US\n"
     ]
    }
   ],
   "source": [
    "data = pd.array(\n",
    "    [\n",
    "        [\"company\", \"price\", \"ticker\"],\n",
    "        [\"Amazon\", \"2375.0\", \"AMZN.US\"],\n",
    "        [\"Microsoft\", \"178.6\", \"MSFT.US\"],\n",
    "        [\"Facebook\", \"179.2\", \"FB.US\"],\n",
    "    ],\n",
    "    dtype=\"<U14\",\n",
    ")\n",
    "companies = pd.DataFrame(\n",
    "    data[1:],\n",
    "    columns=data[0],\n",
    ")\n",
    "\n",
    "companies = companies.set_index(\"company\")\n",
    "print(companies)"
   ]
  }
 ],
 "metadata": {
  "kernelspec": {
   "display_name": "Python 3",
   "language": "python",
   "name": "python3"
  },
  "language_info": {
   "codemirror_mode": {
    "name": "ipython",
    "version": 3
   },
   "file_extension": ".py",
   "mimetype": "text/x-python",
   "name": "python",
   "nbconvert_exporter": "python",
   "pygments_lexer": "ipython3",
   "version": "3.11.1"
  }
 },
 "nbformat": 4,
 "nbformat_minor": 2
}
